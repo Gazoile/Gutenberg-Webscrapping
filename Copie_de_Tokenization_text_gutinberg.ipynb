{
 "cells": [
  {
   "cell_type": "code",
   "execution_count": 18,
   "metadata": {
    "colab": {
     "base_uri": "https://localhost:8080/"
    },
    "id": "4YGpCRT3LYij",
    "outputId": "9ed2c3e6-0345-418c-e207-ad09cf2fad28"
   },
   "outputs": [],
   "source": [
    "# Importation des bibliothèques nécessaires\n",
    "from num2words import num2words\n",
    "#from google.colab import drive\n",
    "#drive.mount('/content/drive')\n",
    "import os\n",
    "import platform\n",
    "import pickle"
   ]
  },
  {
   "cell_type": "code",
   "execution_count": 19,
   "metadata": {
    "id": "470pNE8ISFi2"
   },
   "outputs": [],
   "source": [
    "from tqdm import tqdm\n",
    "import numpy as np"
   ]
  },
  {
   "cell_type": "code",
   "execution_count": 20,
   "metadata": {
    "id": "m2g2R6LqSFno"
   },
   "outputs": [],
   "source": [
    "def tokenize_text(text):\n",
    "  \"\"\"Tokenizes a given text by performing the following steps:\n",
    "  1. Removes punctuation characters.\n",
    "  2. Converts numbers to their word form in French.\n",
    "  3. Converts text to lowercase.\n",
    "  4. Splits text into a list of words.\n",
    "\n",
    "  Args:\n",
    "    text: The text to be tokenized.\n",
    "    \n",
    "  Returns:\n",
    "    A list of tokens.\n",
    "  \"\"\"\n",
    "\n",
    "  delete = \"[]/\\«,:;?!-(_)—».*=\\n-\\r\"\n",
    "  for i in delete:\n",
    "    text = text.replace(i, \" \")\n",
    "\n",
    "  chiffre = \"0123456789\"\n",
    "  l = []\n",
    "  inter = \"\"\n",
    "\n",
    "  for c in text:\n",
    "    if c in chiffre:\n",
    "      inter = inter + c\n",
    "    if c not in chiffre and len(inter) != 0:\n",
    "      l.append(int(inter))\n",
    "      inter = \"\"\n",
    "\n",
    "  l.sort(reverse=True)\n",
    "  for e in l:\n",
    "    text = text.replace(str(e), num2words(e, lang='fr'))\n",
    "\n",
    "  text = text.lower()\n",
    "  text = text.split()\n",
    "  return text\n",
    "\n",
    "# Example usage (assuming text is defined as in the original code):\n",
    "# tokens = tokenize_text(text)\n",
    "# print(tokens)\n"
   ]
  },
  {
   "cell_type": "code",
   "execution_count": 25,
   "metadata": {},
   "outputs": [
    {
     "name": "stdout",
     "output_type": "stream",
     "text": [
      "{'16934': 'ISO-8859-1', '16901': 'ISO-8859-1', '16888': 'ISO-8859-1', '16887': 'UTF-8-SIG', '16886': 'ISO-8859-1', '16885': 'ISO-8859-1', '16884': 'ISO-8859-1', '16883': 'ISO-8859-1', '16876': 'ISO-8859-1', '16875': 'ISO-8859-1', '16874': 'ISO-8859-1', '16862': 'ISO-8859-1', '16852': 'ISO-8859-1', '16851': 'ISO-8859-1', '16850': 'ISO-8859-1', '16849': 'ISO-8859-1', '16848': 'ISO-8859-1', '16828': 'ISO-8859-1', '16827': 'ISO-8859-1', '16826': 'ISO-8859-1', '16825': 'ISO-8859-1', '16824': 'ISO-8859-1', '16820': 'ISO-8859-1', '16817': 'ISO-8859-1', '16815': 'Windows-1252', '16814': 'ISO-8859-1', '16813': 'ISO-8859-1', '16812': 'ISO-8859-1', '16796': 'ISO-8859-1', '16795': 'ISO-8859-1', '16789': 'ISO-8859-1', '16758': 'ISO-8859-1', '16743': 'ISO-8859-1', '16710': 'ISO-8859-1', '16709': 'ISO-8859-1', '16649': 'ISO-8859-1', '16499': 'UTF-8-SIG', '16492': 'ISO-8859-1', '16465': 'ISO-8859-1', '16421': 'ISO-8859-1', '16388': 'ISO-8859-1', '16336': 'ISO-8859-1', '16286': 'ISO-8859-1', '16260': 'ISO-8859-1', '16240': 'UTF-8-SIG', '16239': 'ISO-8859-1', '16238': 'ISO-8859-1', '16237': 'ISO-8859-1', '16236': 'ISO-8859-1', '16235': 'ISO-8859-1', '16234': 'ISO-8859-1', '16210': 'ISO-8859-1', '16128': 'ISO-8859-1', '16067': 'ISO-8859-1', '16066': 'ISO-8859-1', '16023': 'ISO-8859-1', '16022': 'ISO-8859-1', '16021': 'ISO-8859-1', '16020': 'ISO-8859-1', '15943': 'ISO-8859-1', '15942': 'UTF-8-SIG', '15907': 'ISO-8859-1', '15885': 'ISO-8859-1', '15882': 'ISO-8859-1', '15871': 'ISO-8859-1', '15849': 'ISO-8859-1', '15848': 'ISO-8859-1', '15847': 'ISO-8859-1', '15846': 'ISO-8859-1', '15844': 'ISO-8859-1', '15823': 'ISO-8859-1', '15816': 'ISO-8859-1', '15815': 'ISO-8859-1', '15811': 'ISO-8859-1', '15804': 'ISO-8859-1', '15739': 'UTF-8-SIG', '15732': 'ISO-8859-1', '15686': 'UTF-8-SIG', '15646': 'ISO-8859-1', '15645': 'ISO-8859-1', '15642': 'ISO-8859-1', '15635': 'ISO-8859-1', '15626': 'ISO-8859-1', '15598': 'UTF-8-SIG', '15593': 'ISO-8859-1', '15589': 'ISO-8859-1', '15584': 'ISO-8859-1', '15579': 'UTF-8-SIG', '15574': 'ISO-8859-1', '15558': 'Windows-1252', '15557': 'ISO-8859-1', '15556': 'ISO-8859-1', '15555': 'ISO-8859-1', '15554': 'UTF-8-SIG', '15543': 'ISO-8859-1', '15463': 'ISO-8859-1', '15462': 'ISO-8859-1', '15459': 'ISO-8859-1', '15458': 'ISO-8859-1', '15434': 'ISO-8859-1', '15433': 'ISO-8859-1', '15397': 'ISO-8859-1', '15388': 'ISO-8859-1', '15375': 'ISO-8859-1', '15372': 'Windows-1252', '15371': 'ISO-8859-1', '15361': 'ISO-8859-1', '15324': 'ISO-8859-1', '15312': 'ISO-8859-1', '15305': 'ISO-8859-1', '15303': 'ISO-8859-1', '15297': 'ISO-8859-1', '15296': 'ISO-8859-1', '15295': 'Windows-1252', '15288': 'ISO-8859-1', '15287': 'ISO-8859-1', '15286': 'ISO-8859-1', '15239': 'UTF-8-SIG', '15235': 'ISO-8859-1', '15226': 'ISO-8859-1', '15212': 'ISO-8859-1', '15208': 'ISO-8859-1', '15203': 'ISO-8859-1', '15152': 'ISO-8859-1', '15150': 'ISO-8859-1', '15146': 'ISO-8859-1', '15113': 'UTF-8-SIG', '15112': 'ISO-8859-1', '15107': 'UTF-8-SIG', '15075': 'ISO-8859-1', '15071': 'ISO-8859-1', '15060': 'Windows-1252', '15059': 'ISO-8859-1', '15058': 'ISO-8859-1', '15057': 'ISO-8859-1', '15032': 'ISO-8859-1', '14918': 'ISO-8859-1', '14913': 'ISO-8859-1', '14912': 'ISO-8859-1', '14911': 'ISO-8859-1', '14905': 'ISO-8859-1', '14828': 'utf-8', '14827': 'utf-8', '14820': 'utf-8', '14810': 'utf-8', '14806': 'utf-8', '14805': 'utf-8', '14804': 'utf-8', '14803': 'utf-8', '14799': 'utf-8', '14793': 'utf-8', '14792': 'utf-8', '14791': 'utf-8', '14790': 'utf-8', '14789': 'utf-8', '14788': 'utf-8', '14751': 'utf-8', '14720': 'utf-8', '14713': 'utf-8', '14705': 'utf-8', '14704': 'utf-8', '14703': 'utf-8', '14702': 'utf-8', '14693': 'utf-8', '14692': 'utf-8', '14688': 'utf-8', '14677': 'utf-8', '14609': 'utf-8', '14564': 'utf-8', '14541': 'utf-8', '14539': 'utf-8', '14538': 'utf-8', '14537': 'utf-8', '14536': 'utf-8', '14512': 'utf-8', '14404': 'utf-8', '14399': 'utf-8', '14398': 'utf-8', '14397': 'utf-8', '14372': 'utf-8', '14343': 'utf-8', '14310': 'utf-8', '14309': 'utf-8', '14288': 'utf-8', '14287': 'utf-8', '14286': 'utf-8', '14285': 'utf-8', '14259': 'utf-8', '14251': 'utf-8', '14247': 'utf-8', '14192': 'utf-8', '14163': 'utf-8', '14159': 'utf-8', '14158': 'utf-8', '14157': 'utf-8', '14156': 'utf-8', '14155': 'utf-8', '14151': 'utf-8', '14113': 'utf-8', '14082': 'utf-8', '14071': 'utf-8', '14069': 'utf-8', '14059': 'utf-8', '14038': 'utf-8', '14030': 'utf-8', '13981': 'utf-8', '13965': 'utf-8', '13952': 'utf-8', '13951': 'utf-8', '13950': 'utf-8', '13949': 'utf-8', '13948': 'utf-8', '13947': 'utf-8', '13938': 'utf-8', '13917': 'utf-8', '13914': 'utf-8', '13892': 'utf-8', '13875': 'utf-8', '13868': 'utf-8', '13866': 'utf-8', '13863': 'utf-8', '13862': 'utf-8', '13861': 'utf-8', '13857': 'utf-8', '13856': 'utf-8', '13855': 'utf-8', '13848': 'utf-8', '13846': 'utf-8', '13839': 'utf-8', '13838': 'utf-8', '13837': 'utf-8', '13834': 'UTF-8-SIG', '13825': 'utf-8', '13819': 'utf-8', '13818': 'utf-8', '13808': 'utf-8', '13807': 'utf-8', '13804': 'utf-8', '13795': 'UTF-8-SIG', '13794': 'utf-8', '13793': 'utf-8', '13792': 'utf-8', '13772': 'utf-8', '13771': 'utf-8', '13765': 'utf-8', '13744': 'utf-8', '13743': 'utf-8', '13737': 'utf-8', '13735': 'utf-8', '13734': 'utf-8', '13727': 'utf-8', '13704': 'utf-8', '13703': 'utf-8', '13676': 'utf-8', '13671': 'utf-8', '13668': 'utf-8', '13654': 'utf-8', '13653': 'utf-8', '13629': 'utf-8', '13628': 'utf-8', '13622': 'utf-8', '13607': 'utf-8', '13598': 'utf-8', '13594': 'utf-8', '13592': 'utf-8', '13562': 'utf-8', '13557': 'utf-8', '13525': 'utf-8', '13524': 'utf-8', '13523': 'utf-8', '13490': 'utf-8', '13478': 'utf-8', '13475': 'utf-8', '13456': 'utf-8', '13431': 'utf-8', '13400': 'utf-8', '13385': 'utf-8', '13383': 'utf-8', '13380': 'utf-8', '13374': 'utf-8', '13339': 'utf-8', '13336': 'utf-8', '13303': 'utf-8', '13299': 'utf-8', '13284': 'utf-8', '13263': 'utf-8', '13258': 'utf-8', '13256': 'utf-8', '13247': 'utf-8', '13230': 'utf-8', '13221': 'utf-8', '13219': 'utf-8', '13207': 'utf-8', '13198': 'utf-8', '13192': 'utf-8', '13190': 'utf-8', '13189': 'utf-8', '13187': 'utf-8', '13149': 'utf-8', '13122': 'utf-8', '13096': 'utf-8', '13070': 'utf-8', '13059': 'utf-8', '13038': 'utf-8', '13036': 'utf-8', '13027': 'utf-8', '13025': 'utf-8', '13024': 'utf-8', '13016': 'utf-8', '13013': 'utf-8', '12999': 'utf-8', '12993': 'utf-8', '12979': 'utf-8', '12969': 'utf-8', '12950': 'utf-8', '12893': 'utf-8', '12889': 'utf-8', '12869': 'utf-8', '12865': 'utf-8', '12862': 'utf-8', '12837': 'utf-8', '12829': 'utf-8', '12812': 'utf-8', '12783': 'utf-8', '12782': 'utf-8', '12752': 'utf-8', '12751': 'utf-8', '12749': 'utf-8', '12727': 'utf-8', '12726': 'utf-8', '12666': 'utf-8', '12665': 'utf-8', '12646': 'utf-8', '12620': 'utf-8', '12603': 'utf-8', '12602': 'utf-8', '12566': 'utf-8', '12562': 'utf-8', '12534': 'utf-8', '12533': 'utf-8', '12489': 'utf-8', '12488': 'utf-8', '12487': 'utf-8', '12459': 'utf-8', '12448': 'utf-8', '12437': 'utf-8', '12401': 'utf-8', '12399': 'utf-8', '12367': 'utf-8', '12365': 'utf-8', '12356': 'utf-8', '12338': 'utf-8', '12332': 'utf-8', '12331': 'utf-8', '12301': 'utf-8', '12295': 'utf-8', '12289': 'utf-8', '12271': 'utf-8', '12258': 'utf-8', '12251': 'utf-8', '12250': 'utf-8', '12247': 'utf-8', '12246': 'utf-8', '12230': 'utf-8', '12174': 'utf-8', '12120': 'utf-8', '12105': 'utf-8', '12080': 'utf-8', '12072': 'utf-8', '12065': 'utf-8', '12011': 'utf-8', '12005': 'utf-8', '11964': 'utf-8', '11928': 'utf-8', '11927': 'utf-8', '11905': 'utf-8', '11893': 'utf-8', '11769': 'utf-8', '11767': 'utf-8', '11766': 'utf-8', '11747': 'utf-8', '11744': 'utf-8', '11714': 'utf-8', '11678': 'utf-8', '11650': 'utf-8', '11646': 'utf-8', '11645': 'utf-8', '11622': 'utf-8', '11621': 'utf-8', '11597': 'utf-8', '11596': 'utf-8', '11590': 'ISO-8859-1', '11589': 'utf-8', '11495': 'utf-8', '11494': 'utf-8', '11484': 'ISO-8859-1', '11453': 'ISO-8859-1', '11450': 'utf-8', '11434': 'utf-8', '11423': 'utf-8', '11380': 'utf-8', '11301': 'utf-8', '11300': 'utf-8', '11199': 'utf-8', '11178': 'utf-8', '11176': 'utf-8', '11175': 'utf-8', '11132': 'utf-8', '11131': 'utf-8', '11049': 'utf-8', '11048': 'utf-8', '11046': 'utf-8', '11042': 'utf-8', '11038': 'utf-8', '11037': 'utf-8', '11036': 'utf-8', '11035': 'utf-8', '10982': 'utf-8', '10953': 'utf-8', '10906': 'utf-8', '10841': 'utf-8', '10824': 'utf-8', '10775': 'utf-8', '10774': 'utf-8', '10768': 'utf-8', '10764': 'utf-8', '10746': 'utf-8', '10697': 'utf-8', '10689': 'utf-8', '10687': 'utf-8', '10685': 'utf-8', '10683': 'utf-8', '10682': 'utf-8', '10680': 'utf-8', '10678': 'utf-8', '10604': 'utf-8', '10442': 'utf-8', '10385': 'utf-8', '10384': 'utf-8', '10346': 'utf-8', '10290': 'ISO-8859-1', '10289': 'utf-8', '10160': 'utf-8', '10061': 'utf-8', '10053': 'utf-8', '9976': 'ISO-8859-1', '9945': 'ISO-8859-1', '9894': 'ISO-8859-1', '9893': 'ISO-8859-1', '9892': 'ISO-8859-1', '9891': 'ISO-8859-1', '9824': 'Windows-1252', '9818': 'Windows-1252', '9655': 'ISO-8859-1', '9645': 'Windows-1252', '9644': 'ISO-8859-1', '9643': 'ISO-8859-1', '9639': 'ISO-8859-1', '9638': 'ISO-8859-1', '9637': 'ISO-8859-1', '9453': 'ISO-8859-1', '9262': 'ISO-8859-1', '9261': 'ISO-8859-1', '9053': 'ISO-8859-1', '8946': 'UTF-8-SIG', '8907': 'ISO-8859-1', '8876': 'Windows-1252', '8864': 'ISO-8859-1', '8863': 'Windows-1252', '8822': 'ISO-8859-1', '8739': 'ISO-8859-1', '8719': 'UTF-8-SIG', '8712': 'ISO-8859-1', '8693': 'UTF-8-SIG', '8692': 'UTF-8-SIG', '8650': 'UTF-8-SIG', '8563': 'ISO-8859-1', '8561': 'ISO-8859-1', '8560': 'ISO-8859-1', '8541': 'Windows-1252', '8524': 'ISO-8859-1', '8520': 'ISO-8859-1', '8490': 'Windows-1252', '8454': 'ISO-8859-1', '8453': 'ascii', '8416': 'ISO-8859-1', '8186': 'ascii', '8175': 'ISO-8859-1', '8174': 'ISO-8859-1', '8173': 'Windows-1252', '8074': 'Windows-1252', '7854': 'ISO-8859-1', '7818': 'ascii', '7812': 'ISO-8859-1', '7809': 'Windows-1252', '7772': 'Windows-1252', '7771': 'ISO-8859-1', '7770': 'ISO-8859-1', '7462': 'ISO-8859-1', '7461': 'UTF-8-SIG', '7268': 'ISO-8859-1', '7263': 'ISO-8859-1', '7173': 'ISO-8859-1', '7012': 'Windows-1252', '6994': 'UTF-8-SIG', '6966': 'ascii', '6838': 'ISO-8859-1', '6739': 'ISO-8859-1', '6691': 'ISO-8859-1', '6558': 'ISO-8859-1', '6501': 'UTF-8-SIG', '6497': 'UTF-8-SIG', '6484': 'ISO-8859-1', '6470': 'ISO-8859-1', '6377': 'UTF-8-SIG', '6319': 'UTF-8-SIG', '6318': 'ISO-8859-1', '6099': 'ISO-8859-1', '5892': 'ISO-8859-1', '5781': 'UTF-8-SIG', '5712': 'ascii', '5644': 'ISO-8859-1', '5423': 'UTF-8-SIG', '5318': 'ISO-8859-1', '5258': 'ISO-8859-1', '5250': 'ISO-8859-1', '5178': 'ISO-8859-1', '5158': 'ISO-8859-1', '5154': 'utf-8', '5147': 'ISO-8859-1', '5138': 'ISO-8859-1', '5130': 'ISO-8859-1', '5126': 'UTF-8-SIG', '5105': 'Windows-1252', '5104': 'ISO-8859-1', '5097': 'UTF-8-SIG', '5096': 'ISO-8859-1', '5095': 'ISO-8859-1', '5082': 'UTF-8-SIG', '5081': 'ISO-8859-1', '4968': 'UTF-8-SIG', '4936': 'ISO-8859-1', '4935': 'ISO-8859-1', '4933': 'ISO-8859-1', '4791': 'UTF-8-SIG', '4772': 'ISO-8859-1', '4771': 'ISO-8859-1', '4741': 'UTF-8-SIG', '4740': 'UTF-8-SIG', '4718': 'utf-8', '4717': 'Windows-1252', '4708': 'ISO-8859-1', '4688': 'utf-8', '4651': 'UTF-8-SIG', '4650': 'UTF-8-SIG', '4649': 'utf-8', '4648': 'utf-8', '4647': 'UTF-8-SIG', '4570': 'utf-8', '4569': 'UTF-8-SIG', '4568': 'UTF-8-SIG', '4567': 'UTF-8-SIG', '4566': 'UTF-8-SIG', '4565': 'UTF-8-SIG', '4564': 'UTF-8-SIG', '4563': 'UTF-8-SIG', '4562': 'UTF-8-SIG', '4561': 'UTF-8-SIG', '4559': 'ISO-8859-1', '4548': 'UTF-8-SIG', '3645': 'ISO-8859-1', '3644': 'ISO-8859-1', '3456': 'ISO-8859-1', '2998': 'UTF-8-SIG', '2682': 'ISO-8859-1', '2650': 'UTF-8-SIG', '2419': 'UTF-8-SIG', '1981': 'UTF-8-SIG', '1910': 'ascii', '1256': 'utf-8', '803': 'ISO-8859-1', '802': 'ISO-8859-1', '801': 'ISO-8859-1', '800': 'ISO-8859-1', '799': 'UTF-8-SIG', '798': 'ISO-8859-1', '797': 'ISO-8859-1', '796': 'UTF-8-SIG', '249': 'UTF-8-SIG'}\n",
      "589\n"
     ]
    }
   ],
   "source": [
    "# liste de tout les noms de fichier contenant nos textes\n",
    "\n",
    "if platform.system() == \"Windows\":\n",
    "    path = \"text\\\\\"\n",
    "else:\n",
    "    path = \"text/\"\n",
    "\n",
    "ma_list = os.listdir(path)\n",
    "\n",
    "nos_encoding = open(path + \"nos_encoding.json\", mode=\"rb\")\n",
    "\n",
    "dicz = pickle.load(nos_encoding)\n",
    "print(dicz)\n",
    "print(len(dicz))"
   ]
  },
  {
   "cell_type": "code",
   "execution_count": 28,
   "metadata": {
    "colab": {
     "base_uri": "https://localhost:8080/",
     "height": 277
    },
    "id": "wlztx7W8MSMT",
    "outputId": "fdb153e1-72e6-40ff-cfc1-68517183785d"
   },
   "outputs": [
    {
     "name": "stderr",
     "output_type": "stream",
     "text": [
      "  0%|                                                                                                                                                                                        | 0/3686 [00:00<?, ?it/s]"
     ]
    },
    {
     "name": "stdout",
     "output_type": "stream",
     "text": [
      "29844\n",
      "49168\n",
      "68818\n",
      "47623\n",
      "55233\n",
      "33808\n",
      "67281\n",
      "18455\n"
     ]
    },
    {
     "name": "stderr",
     "output_type": "stream",
     "text": [
      "  0%|▍                                                                                                                                                                               | 9/3686 [00:00<02:02, 30.10it/s]\n"
     ]
    }
   ],
   "source": [
    "# liste de tout les noms de fichier contenant nos textes\n",
    "\n",
    "if platform.system() == \"Windows\":\n",
    "    path = \"text\\\\\"\n",
    "else:\n",
    "    path = \"text/\"\n",
    "\n",
    "ma_list = os.listdir(path)\n",
    "\n",
    "nos_encoding = open(path + \"nos_encoding.json\", mode=\"rb\")\n",
    "\n",
    "dicz = pickle.load(nos_encoding)\n",
    "\n",
    "\n",
    "\n",
    "#initialiser un compteur\n",
    "compteur = 0\n",
    "#initialiser 2 listes vides\n",
    "mes_textes = []\n",
    "a = []\n",
    "# parcourir mes txt's\n",
    "for e in tqdm(ma_list):\n",
    "  if \".txt\" not in e:\n",
    "      continue\n",
    "\n",
    "\n",
    "  # si l'id du texte n'est pas dans le dico on continue \n",
    "  if e[0:-4] not in dicz:\n",
    "      print(e[0:-4])\n",
    "      continue\n",
    "      \n",
    "  # ouvre le fichier avec le bon encoding\n",
    "    \n",
    "  f = open(path + f\"{e}\", encoding=dicz[e[0:-4]])\n",
    "    \n",
    "  text = f.read()\n",
    "\n",
    "    \n",
    "  text = tokenize_text(text)\n",
    "  a.append(len(text))\n",
    "  mes_textes += text\n",
    "    \n",
    "  if compteur == 1:\n",
    "    break\n",
    "  compteur += 1"
   ]
  },
  {
   "cell_type": "code",
   "execution_count": null,
   "metadata": {},
   "outputs": [],
   "source": []
  },
  {
   "cell_type": "code",
   "execution_count": 7,
   "metadata": {
    "id": "_m3cNmRSDYaV"
   },
   "outputs": [
    {
     "name": "stdout",
     "output_type": "stream",
     "text": [
      "[]\n"
     ]
    }
   ],
   "source": [
    "print(mes_textes)"
   ]
  },
  {
   "cell_type": "code",
   "execution_count": 35,
   "metadata": {
    "id": "5MZq0J-5EedM"
   },
   "outputs": [],
   "source": [
    "if platform.system() == \"Windows\":\n",
    "    path = \"text_tokenized\\\\all_text.txt\"\n",
    "else:\n",
    "    path = \"text_tokenized/all_text.txt\"\n",
    "z = open(path,mode=\"w\",encoding=\"utf-8\")\n",
    "\n",
    "for e in mes_textes:\n",
    "  z.write(e + \" \")\n",
    "z.close()\n",
    "\n"
   ]
  },
  {
   "cell_type": "code",
   "execution_count": 10,
   "metadata": {
    "id": "Ffoq4xc_Iuae"
   },
   "outputs": [],
   "source": [
    "if platform.system() == \"Windows\":\n",
    "    path = \"text_tokenized\\\\all_text.txt\"\n",
    "else:\n",
    "    path = \"text_tokenized/all_text.txt\"\n",
    "    \n",
    "f = open(path)\n",
    "\n",
    "\n",
    "texts = f.read().split()\n"
   ]
  },
  {
   "cell_type": "code",
   "execution_count": 12,
   "metadata": {},
   "outputs": [
    {
     "name": "stdout",
     "output_type": "stream",
     "text": [
      "cent\n"
     ]
    }
   ],
   "source": [
    "print(texts[20])"
   ]
  },
  {
   "cell_type": "code",
   "execution_count": 8,
   "metadata": {
    "id": "Bkd7RJsKLMtN"
   },
   "outputs": [],
   "source": [
    "#print(a)"
   ]
  },
  {
   "cell_type": "code",
   "execution_count": null,
   "metadata": {},
   "outputs": [],
   "source": []
  },
  {
   "cell_type": "code",
   "execution_count": 9,
   "metadata": {
    "id": "x_9en151LR_m"
   },
   "outputs": [],
   "source": [
    "#print(texts[19985:19985+29933])"
   ]
  },
  {
   "cell_type": "code",
   "execution_count": 10,
   "metadata": {
    "id": "E2SpC6ZXOMm4"
   },
   "outputs": [],
   "source": [
    "#print(texts[19985+29933+84253:19985+29933+84253+70865])"
   ]
  },
  {
   "cell_type": "code",
   "execution_count": 44,
   "metadata": {
    "colab": {
     "base_uri": "https://localhost:8080/"
    },
    "id": "EaCd7ob8S19Q",
    "outputId": "35f0ea3a-2582-4f20-c738-c82495aa31f7"
   },
   "outputs": [
    {
     "name": "stdout",
     "output_type": "stream",
     "text": [
      "134171\n"
     ]
    }
   ],
   "source": [
    "# Somme du nombre de mots all books\n",
    "c = 0\n",
    "r = 0\n",
    "for n in a:\n",
    "  r += n\n",
    "  c += 1\n",
    "  if c == 3:\n",
    "    break\n",
    "print(r)\n",
    "\n"
   ]
  },
  {
   "cell_type": "code",
   "execution_count": 61,
   "metadata": {
    "colab": {
     "base_uri": "https://localhost:8080/"
    },
    "id": "j60sG6PBU17s",
    "outputId": "cc373519-3b8b-47f9-f656-da1b3811c728"
   },
   "outputs": [
    {
     "name": "stdout",
     "output_type": "stream",
     "text": [
      "19985\n"
     ]
    }
   ],
   "source": [
    "# Récupérer le nombre de mots totals dans les n premiers livres\n",
    "r = 0\n",
    "for n in a[0:1]:\n",
    "  r += n\n",
    "\n",
    "print(r)"
   ]
  },
  {
   "cell_type": "code",
   "execution_count": 68,
   "metadata": {
    "colab": {
     "base_uri": "https://localhost:8080/",
     "height": 375
    },
    "id": "YR1ltXLTPPn2",
    "outputId": "d0501e80-580b-40f4-f5ea-d4d57c347a4e"
   },
   "outputs": [
    {
     "ename": "KeyboardInterrupt",
     "evalue": "Interrupted by user",
     "output_type": "error",
     "traceback": [
      "\u001b[0;31m---------------------------------------------------------------------------\u001b[0m",
      "\u001b[0;31mKeyboardInterrupt\u001b[0m                         Traceback (most recent call last)",
      "\u001b[0;32m<ipython-input-68-152128d6231d>\u001b[0m in \u001b[0;36m<cell line: 0>\u001b[0;34m()\u001b[0m\n\u001b[0;32m----> 1\u001b[0;31m \u001b[0mnumber_util\u001b[0m \u001b[0;34m=\u001b[0m \u001b[0mint\u001b[0m\u001b[0;34m(\u001b[0m\u001b[0minput\u001b[0m\u001b[0;34m(\u001b[0m\u001b[0;34mf\"Quel livre voulez-vous?\"\u001b[0m\u001b[0;34m)\u001b[0m\u001b[0;34m)\u001b[0m\u001b[0;34m\u001b[0m\u001b[0;34m\u001b[0m\u001b[0m\n\u001b[0m\u001b[1;32m      2\u001b[0m \u001b[0mr\u001b[0m \u001b[0;34m=\u001b[0m \u001b[0;36m0\u001b[0m\u001b[0;34m\u001b[0m\u001b[0;34m\u001b[0m\u001b[0m\n\u001b[1;32m      3\u001b[0m \u001b[0;32mfor\u001b[0m \u001b[0mn\u001b[0m \u001b[0;32min\u001b[0m \u001b[0ma\u001b[0m\u001b[0;34m[\u001b[0m\u001b[0;36m0\u001b[0m\u001b[0;34m:\u001b[0m\u001b[0mnumber_util\u001b[0m\u001b[0;34m-\u001b[0m\u001b[0;36m1\u001b[0m\u001b[0;34m]\u001b[0m\u001b[0;34m:\u001b[0m\u001b[0;34m\u001b[0m\u001b[0;34m\u001b[0m\u001b[0m\n\u001b[1;32m      4\u001b[0m   \u001b[0mr\u001b[0m \u001b[0;34m+=\u001b[0m \u001b[0mn\u001b[0m\u001b[0;34m\u001b[0m\u001b[0;34m\u001b[0m\u001b[0m\n\u001b[1;32m      5\u001b[0m \u001b[0;34m\u001b[0m\u001b[0m\n",
      "\u001b[0;32m/usr/local/lib/python3.11/dist-packages/ipykernel/kernelbase.py\u001b[0m in \u001b[0;36mraw_input\u001b[0;34m(self, prompt)\u001b[0m\n\u001b[1;32m   1175\u001b[0m                 \u001b[0;34m\"raw_input was called, but this frontend does not support input requests.\"\u001b[0m\u001b[0;34m\u001b[0m\u001b[0;34m\u001b[0m\u001b[0m\n\u001b[1;32m   1176\u001b[0m             )\n\u001b[0;32m-> 1177\u001b[0;31m         return self._input_request(\n\u001b[0m\u001b[1;32m   1178\u001b[0m             \u001b[0mstr\u001b[0m\u001b[0;34m(\u001b[0m\u001b[0mprompt\u001b[0m\u001b[0;34m)\u001b[0m\u001b[0;34m,\u001b[0m\u001b[0;34m\u001b[0m\u001b[0;34m\u001b[0m\u001b[0m\n\u001b[1;32m   1179\u001b[0m             \u001b[0mself\u001b[0m\u001b[0;34m.\u001b[0m\u001b[0m_parent_ident\u001b[0m\u001b[0;34m[\u001b[0m\u001b[0;34m\"shell\"\u001b[0m\u001b[0;34m]\u001b[0m\u001b[0;34m,\u001b[0m\u001b[0;34m\u001b[0m\u001b[0;34m\u001b[0m\u001b[0m\n",
      "\u001b[0;32m/usr/local/lib/python3.11/dist-packages/ipykernel/kernelbase.py\u001b[0m in \u001b[0;36m_input_request\u001b[0;34m(self, prompt, ident, parent, password)\u001b[0m\n\u001b[1;32m   1217\u001b[0m             \u001b[0;32mexcept\u001b[0m \u001b[0mKeyboardInterrupt\u001b[0m\u001b[0;34m:\u001b[0m\u001b[0;34m\u001b[0m\u001b[0;34m\u001b[0m\u001b[0m\n\u001b[1;32m   1218\u001b[0m                 \u001b[0;31m# re-raise KeyboardInterrupt, to truncate traceback\u001b[0m\u001b[0;34m\u001b[0m\u001b[0;34m\u001b[0m\u001b[0m\n\u001b[0;32m-> 1219\u001b[0;31m                 \u001b[0;32mraise\u001b[0m \u001b[0mKeyboardInterrupt\u001b[0m\u001b[0;34m(\u001b[0m\u001b[0;34m\"Interrupted by user\"\u001b[0m\u001b[0;34m)\u001b[0m \u001b[0;32mfrom\u001b[0m \u001b[0;32mNone\u001b[0m\u001b[0;34m\u001b[0m\u001b[0;34m\u001b[0m\u001b[0m\n\u001b[0m\u001b[1;32m   1220\u001b[0m             \u001b[0;32mexcept\u001b[0m \u001b[0mException\u001b[0m\u001b[0;34m:\u001b[0m\u001b[0;34m\u001b[0m\u001b[0;34m\u001b[0m\u001b[0m\n\u001b[1;32m   1221\u001b[0m                 \u001b[0mself\u001b[0m\u001b[0;34m.\u001b[0m\u001b[0mlog\u001b[0m\u001b[0;34m.\u001b[0m\u001b[0mwarning\u001b[0m\u001b[0;34m(\u001b[0m\u001b[0;34m\"Invalid Message:\"\u001b[0m\u001b[0;34m,\u001b[0m \u001b[0mexc_info\u001b[0m\u001b[0;34m=\u001b[0m\u001b[0;32mTrue\u001b[0m\u001b[0;34m)\u001b[0m\u001b[0;34m\u001b[0m\u001b[0;34m\u001b[0m\u001b[0m\n",
      "\u001b[0;31mKeyboardInterrupt\u001b[0m: Interrupted by user"
     ]
    }
   ],
   "source": [
    "# Récupérer un livre demander par l'utilisateur\n",
    "number_util = int(input(f\"Quel livre voulez-vous?\"))\n",
    "r = 0\n",
    "for n in a[0:number_util-1]:\n",
    "  r += n\n",
    "\n",
    "print(r)\n",
    "\n",
    "\n",
    "\n",
    "texts[2]\n",
    "\n",
    "#essayer d'afficher le livre demandé par l'utilisateur"
   ]
  },
  {
   "cell_type": "code",
   "execution_count": 11,
   "metadata": {
    "id": "xQpir5vCJJHz"
   },
   "outputs": [],
   "source": [
    "#print(texts)"
   ]
  },
  {
   "cell_type": "code",
   "execution_count": null,
   "metadata": {
    "id": "ulyQhrwydOHx"
   },
   "outputs": [],
   "source": [
    "c = int(round(np.mean(a),2))"
   ]
  },
  {
   "cell_type": "code",
   "execution_count": null,
   "metadata": {
    "colab": {
     "base_uri": "https://localhost:8080/"
    },
    "id": "_AwFrlgydWOM",
    "outputId": "f4141772-10cd-471a-bce5-a9dbdf5d3a81"
   },
   "outputs": [
    {
     "name": "stdout",
     "output_type": "stream",
     "text": [
      "54177\n"
     ]
    }
   ],
   "source": [
    "print(c)"
   ]
  },
  {
   "cell_type": "code",
   "execution_count": null,
   "metadata": {
    "colab": {
     "base_uri": "https://localhost:8080/"
    },
    "id": "MgmbSacRdd4W",
    "outputId": "b31c6e28-5ecd-4529-96f1-f136d5620d33"
   },
   "outputs": [
    {
     "name": "stdout",
     "output_type": "stream",
     "text": [
      "54177.82178217822\n"
     ]
    }
   ],
   "source": [
    "# Calculer la moyenne de mot dans un livre à la man\n",
    "r = 0\n",
    "\n",
    "for c in a:\n",
    "  r += c\n",
    "\n",
    "mean = r / len(a)\n",
    "\n",
    "print(mean)\n"
   ]
  },
  {
   "cell_type": "code",
   "execution_count": 35,
   "metadata": {
    "colab": {
     "base_uri": "https://localhost:8080/",
     "height": 203
    },
    "id": "CYDpBHdrh1VE",
    "outputId": "2ad1b58c-3870-42d6-a931-6d30911ae2d6"
   },
   "outputs": [
    {
     "ename": "NameError",
     "evalue": "name 'mean' is not defined",
     "output_type": "error",
     "traceback": [
      "\u001b[0;31m---------------------------------------------------------------------------\u001b[0m",
      "\u001b[0;31mNameError\u001b[0m                                 Traceback (most recent call last)",
      "\u001b[0;32m<ipython-input-35-112777e8153c>\u001b[0m in \u001b[0;36m<cell line: 0>\u001b[0;34m()\u001b[0m\n\u001b[1;32m      1\u001b[0m \u001b[0mr\u001b[0m \u001b[0;34m=\u001b[0m \u001b[0;36m0\u001b[0m\u001b[0;34m\u001b[0m\u001b[0;34m\u001b[0m\u001b[0m\n\u001b[1;32m      2\u001b[0m \u001b[0;32mfor\u001b[0m \u001b[0mc\u001b[0m \u001b[0;32min\u001b[0m \u001b[0ma\u001b[0m\u001b[0;34m:\u001b[0m\u001b[0;34m\u001b[0m\u001b[0;34m\u001b[0m\u001b[0m\n\u001b[0;32m----> 3\u001b[0;31m   \u001b[0mr\u001b[0m \u001b[0;34m+=\u001b[0m \u001b[0;34m(\u001b[0m\u001b[0mc\u001b[0m \u001b[0;34m-\u001b[0m \u001b[0mmean\u001b[0m\u001b[0;34m)\u001b[0m \u001b[0;34m**\u001b[0m \u001b[0;36m2\u001b[0m\u001b[0;34m\u001b[0m\u001b[0;34m\u001b[0m\u001b[0m\n\u001b[0m\u001b[1;32m      4\u001b[0m \u001b[0mecart_type\u001b[0m \u001b[0;34m=\u001b[0m \u001b[0;34m(\u001b[0m\u001b[0mr\u001b[0m \u001b[0;34m/\u001b[0m \u001b[0mlen\u001b[0m\u001b[0;34m(\u001b[0m\u001b[0ma\u001b[0m\u001b[0;34m)\u001b[0m\u001b[0;34m)\u001b[0m \u001b[0;34m**\u001b[0m\u001b[0;34m(\u001b[0m\u001b[0;36m1\u001b[0m\u001b[0;34m/\u001b[0m\u001b[0;36m2\u001b[0m\u001b[0;34m)\u001b[0m\u001b[0;34m\u001b[0m\u001b[0;34m\u001b[0m\u001b[0m\n",
      "\u001b[0;31mNameError\u001b[0m: name 'mean' is not defined"
     ]
    }
   ],
   "source": [
    "# Calcul de l'écart type à la main\n",
    "r = 0\n",
    "for c in a:\n",
    "  r += (c - mean) ** 2\n",
    "ecart_type = (r / len(a)) **(1/2)"
   ]
  },
  {
   "cell_type": "code",
   "execution_count": null,
   "metadata": {
    "colab": {
     "base_uri": "https://localhost:8080/"
    },
    "id": "QQZA8GM5krlC",
    "outputId": "d62a0aa7-3367-4fc3-f0ee-2e1e07cd74af"
   },
   "outputs": [
    {
     "name": "stdout",
     "output_type": "stream",
     "text": [
      "41781.813269259255\n"
     ]
    }
   ],
   "source": [
    "print(ecart_type)"
   ]
  },
  {
   "cell_type": "code",
   "execution_count": null,
   "metadata": {
    "colab": {
     "base_uri": "https://localhost:8080/"
    },
    "id": "lCIGPSTZj2IE",
    "outputId": "d89d4831-11cd-44ba-fc95-737617bb4ead"
   },
   "outputs": [
    {
     "data": {
      "text/plain": [
       "np.float64(1.4142135623730951)"
      ]
     },
     "execution_count": 91,
     "metadata": {},
     "output_type": "execute_result"
    }
   ],
   "source": [
    "1./2.\n",
    "np.sqrt(2)"
   ]
  },
  {
   "cell_type": "code",
   "execution_count": null,
   "metadata": {
    "colab": {
     "base_uri": "https://localhost:8080/"
    },
    "id": "bigWmfpAjxmd",
    "outputId": "bd447c4b-2e04-44ee-9b64-497abc3b2057"
   },
   "outputs": [
    {
     "name": "stdout",
     "output_type": "stream",
     "text": [
      "1.4142135623730951\n",
      "\n",
      "\n"
     ]
    },
    {
     "data": {
      "text/plain": [
       "np.float64(1.4142135623730951)"
      ]
     },
     "execution_count": 97,
     "metadata": {},
     "output_type": "execute_result"
    }
   ],
   "source": [
    "print(2**(1./2.))\n",
    "print(\"\\n\")\n",
    "np.sqrt(2)"
   ]
  },
  {
   "cell_type": "code",
   "execution_count": 12,
   "metadata": {
    "colab": {
     "base_uri": "https://localhost:8080/"
    },
    "id": "Dgp9wnBZNj5u",
    "outputId": "767b2df3-0519-4a25-f702-cc86181b850c"
   },
   "outputs": [
    {
     "data": {
      "text/plain": [
       "1478412"
      ]
     },
     "execution_count": 12,
     "metadata": {},
     "output_type": "execute_result"
    }
   ],
   "source": [
    "#print(mes_textes)\n",
    "len(mes_textes)"
   ]
  },
  {
   "cell_type": "code",
   "execution_count": null,
   "metadata": {},
   "outputs": [],
   "source": []
  }
 ],
 "metadata": {
  "colab": {
   "provenance": []
  },
  "kernelspec": {
   "display_name": "Python 3 (ipykernel)",
   "language": "python",
   "name": "python3"
  },
  "language_info": {
   "codemirror_mode": {
    "name": "ipython",
    "version": 3
   },
   "file_extension": ".py",
   "mimetype": "text/x-python",
   "name": "python",
   "nbconvert_exporter": "python",
   "pygments_lexer": "ipython3",
   "version": "3.12.4"
  }
 },
 "nbformat": 4,
 "nbformat_minor": 4
}
