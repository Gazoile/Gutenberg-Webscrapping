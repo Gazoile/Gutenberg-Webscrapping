{
 "cells": [
  {
   "cell_type": "code",
   "execution_count": 3,
   "metadata": {
    "colab": {
     "base_uri": "https://localhost:8080/"
    },
    "id": "4YGpCRT3LYij",
    "outputId": "9ed2c3e6-0345-418c-e207-ad09cf2fad28"
   },
   "outputs": [],
   "source": [
    "# Importation des bibliothèques nécessaires\n",
    "from num2words import num2words\n",
    "#from google.colab import drive\n",
    "#drive.mount('/content/drive')\n",
    "import os\n",
    "import platform\n",
    "import pickle"
   ]
  },
  {
   "cell_type": "code",
   "execution_count": 4,
   "metadata": {
    "id": "470pNE8ISFi2"
   },
   "outputs": [],
   "source": [
    "from tqdm import tqdm\n",
    "import numpy as np"
   ]
  },
  {
   "cell_type": "code",
   "execution_count": 5,
   "metadata": {
    "id": "m2g2R6LqSFno"
   },
   "outputs": [],
   "source": [
    "def tokenize_text(text):\n",
    "  \"\"\"Tokenizes a given text by performing the following steps:\n",
    "  1. Removes punctuation characters.\n",
    "  2. Converts numbers to their word form in French.\n",
    "  3. Converts text to lowercase.\n",
    "  4. Splits text into a list of words.\n",
    "\n",
    "  Args:\n",
    "    text: The text to be tokenized.\n",
    "    \n",
    "  Returns:\n",
    "    A list of tokens.\n",
    "  \"\"\"\n",
    "\n",
    "  delete = \"[]/\\«,:;?!-(_)—».*=\\n-\\r\"\n",
    "  for i in delete:\n",
    "    text = text.replace(i, \" \")\n",
    "\n",
    "  chiffre = \"0123456789\"\n",
    "  l = []\n",
    "  inter = \"\"\n",
    "\n",
    "  for c in text:\n",
    "    if c in chiffre:\n",
    "      inter = inter + c\n",
    "    if c not in chiffre and len(inter) != 0:\n",
    "      l.append(int(inter))\n",
    "      inter = \"\"\n",
    "\n",
    "  l.sort(reverse=True)\n",
    "  for e in l:\n",
    "    text = text.replace(str(e), num2words(e, lang='fr'))\n",
    "\n",
    "  text = text.lower()\n",
    "  text = text.split()\n",
    "  return text\n",
    "\n",
    "# Example usage (assuming text is defined as in the original code):\n",
    "# tokens = tokenize_text(text)\n",
    "# print(tokens)\n"
   ]
  },
  {
   "cell_type": "code",
   "execution_count": null,
   "metadata": {},
   "outputs": [],
   "source": []
  },
  {
   "cell_type": "code",
   "execution_count": 8,
   "metadata": {
    "colab": {
     "base_uri": "https://localhost:8080/",
     "height": 277
    },
    "id": "wlztx7W8MSMT",
    "outputId": "fdb153e1-72e6-40ff-cfc1-68517183785d"
   },
   "outputs": [
    {
     "name": "stderr",
     "output_type": "stream",
     "text": [
      "  0%|                                                  | 0/3687 [00:00<?, ?it/s]\n"
     ]
    },
    {
     "ename": "UnicodeDecodeError",
     "evalue": "'utf-8' codec can't decode byte 0xe8 in position 60: invalid continuation byte",
     "output_type": "error",
     "traceback": [
      "\u001b[0;31m---------------------------------------------------------------------------\u001b[0m",
      "\u001b[0;31mUnicodeDecodeError\u001b[0m                        Traceback (most recent call last)",
      "Cell \u001b[0;32mIn[8], line 23\u001b[0m\n\u001b[1;32m     21\u001b[0m     \u001b[38;5;28;01mcontinue\u001b[39;00m\n\u001b[1;32m     22\u001b[0m f \u001b[38;5;241m=\u001b[39m \u001b[38;5;28mopen\u001b[39m(path \u001b[38;5;241m+\u001b[39m \u001b[38;5;124mf\u001b[39m\u001b[38;5;124m\"\u001b[39m\u001b[38;5;132;01m{\u001b[39;00me\u001b[38;5;132;01m}\u001b[39;00m\u001b[38;5;124m\"\u001b[39m, encoding\u001b[38;5;241m=\u001b[39m\u001b[38;5;124m\"\u001b[39m\u001b[38;5;124mutf-8\u001b[39m\u001b[38;5;124m\"\u001b[39m)  \n\u001b[0;32m---> 23\u001b[0m text \u001b[38;5;241m=\u001b[39m \u001b[43mf\u001b[49m\u001b[38;5;241;43m.\u001b[39;49m\u001b[43mread\u001b[49m\u001b[43m(\u001b[49m\u001b[43m)\u001b[49m\n\u001b[1;32m     24\u001b[0m \u001b[38;5;28mprint\u001b[39m(text)\n\u001b[1;32m     25\u001b[0m text \u001b[38;5;241m=\u001b[39m tokenize_text(text)\n",
      "File \u001b[0;32m<frozen codecs>:322\u001b[0m, in \u001b[0;36mdecode\u001b[0;34m(self, input, final)\u001b[0m\n",
      "\u001b[0;31mUnicodeDecodeError\u001b[0m: 'utf-8' codec can't decode byte 0xe8 in position 60: invalid continuation byte"
     ]
    }
   ],
   "source": [
    "# liste de tout les noms de fichier contenant nos textes\n",
    "\n",
    "if platform.system() == \"Windows\":\n",
    "    path = \"text\\\\\"\n",
    "else:\n",
    "    path = \"text/\"\n",
    "\n",
    "ma_list = os.listdir(path)\n",
    "\n",
    "nos_encoding = open(path + \"nos_encoding.json\", mode=\"rb\")\n",
    "dicz = pickle.load(nos_encoding)\n",
    "\n",
    "#initialiser un compteur\n",
    "compteur = 0\n",
    "#initialiser 2 listes vides\n",
    "mes_textes = []\n",
    "a = []\n",
    "# parcourir mes txt's\n",
    "for e in tqdm(ma_list):\n",
    "  if \".txt\" not in e:\n",
    "      continue\n",
    "  f = open(path + f\"{e}\", encoding=\"utf-8\")  \n",
    "  text = f.read()\n",
    "  print(text)\n",
    "  text = tokenize_text(text)\n",
    "  a.append(len(text))\n",
    "  mes_textes += text\n",
    "  if compteur == 1:\n",
    "    break\n",
    "  compteur += 1"
   ]
  },
  {
   "cell_type": "code",
   "execution_count": null,
   "metadata": {},
   "outputs": [],
   "source": []
  },
  {
   "cell_type": "code",
   "execution_count": 7,
   "metadata": {
    "id": "_m3cNmRSDYaV"
   },
   "outputs": [
    {
     "name": "stdout",
     "output_type": "stream",
     "text": [
      "[]\n"
     ]
    }
   ],
   "source": [
    "print(mes_textes)"
   ]
  },
  {
   "cell_type": "code",
   "execution_count": 35,
   "metadata": {
    "id": "5MZq0J-5EedM"
   },
   "outputs": [],
   "source": [
    "if platform.system() == \"Windows\":\n",
    "    path = \"text_tokenized\\\\all_text.txt\"\n",
    "else:\n",
    "    path = \"text_tokenized/all_text.txt\"\n",
    "z = open(path,mode=\"w\",encoding=\"utf-8\")\n",
    "\n",
    "for e in mes_textes:\n",
    "  z.write(e + \" \")\n",
    "z.close()\n",
    "\n"
   ]
  },
  {
   "cell_type": "code",
   "execution_count": 10,
   "metadata": {
    "id": "Ffoq4xc_Iuae"
   },
   "outputs": [],
   "source": [
    "if platform.system() == \"Windows\":\n",
    "    path = \"text_tokenized\\\\all_text.txt\"\n",
    "else:\n",
    "    path = \"text_tokenized/all_text.txt\"\n",
    "    \n",
    "f = open(path)\n",
    "\n",
    "\n",
    "texts = f.read().split()\n"
   ]
  },
  {
   "cell_type": "code",
   "execution_count": 12,
   "metadata": {},
   "outputs": [
    {
     "name": "stdout",
     "output_type": "stream",
     "text": [
      "cent\n"
     ]
    }
   ],
   "source": [
    "print(texts[20])"
   ]
  },
  {
   "cell_type": "code",
   "execution_count": 8,
   "metadata": {
    "id": "Bkd7RJsKLMtN"
   },
   "outputs": [],
   "source": [
    "#print(a)"
   ]
  },
  {
   "cell_type": "code",
   "execution_count": null,
   "metadata": {},
   "outputs": [],
   "source": []
  },
  {
   "cell_type": "code",
   "execution_count": 9,
   "metadata": {
    "id": "x_9en151LR_m"
   },
   "outputs": [],
   "source": [
    "#print(texts[19985:19985+29933])"
   ]
  },
  {
   "cell_type": "code",
   "execution_count": 10,
   "metadata": {
    "id": "E2SpC6ZXOMm4"
   },
   "outputs": [],
   "source": [
    "#print(texts[19985+29933+84253:19985+29933+84253+70865])"
   ]
  },
  {
   "cell_type": "code",
   "execution_count": 44,
   "metadata": {
    "colab": {
     "base_uri": "https://localhost:8080/"
    },
    "id": "EaCd7ob8S19Q",
    "outputId": "35f0ea3a-2582-4f20-c738-c82495aa31f7"
   },
   "outputs": [
    {
     "name": "stdout",
     "output_type": "stream",
     "text": [
      "134171\n"
     ]
    }
   ],
   "source": [
    "# Somme du nombre de mots all books\n",
    "c = 0\n",
    "r = 0\n",
    "for n in a:\n",
    "  r += n\n",
    "  c += 1\n",
    "  if c == 3:\n",
    "    break\n",
    "print(r)\n",
    "\n"
   ]
  },
  {
   "cell_type": "code",
   "execution_count": 61,
   "metadata": {
    "colab": {
     "base_uri": "https://localhost:8080/"
    },
    "id": "j60sG6PBU17s",
    "outputId": "cc373519-3b8b-47f9-f656-da1b3811c728"
   },
   "outputs": [
    {
     "name": "stdout",
     "output_type": "stream",
     "text": [
      "19985\n"
     ]
    }
   ],
   "source": [
    "# Récupérer le nombre de mots totals dans les n premiers livres\n",
    "r = 0\n",
    "for n in a[0:1]:\n",
    "  r += n\n",
    "\n",
    "print(r)"
   ]
  },
  {
   "cell_type": "code",
   "execution_count": 68,
   "metadata": {
    "colab": {
     "base_uri": "https://localhost:8080/",
     "height": 375
    },
    "id": "YR1ltXLTPPn2",
    "outputId": "d0501e80-580b-40f4-f5ea-d4d57c347a4e"
   },
   "outputs": [
    {
     "ename": "KeyboardInterrupt",
     "evalue": "Interrupted by user",
     "output_type": "error",
     "traceback": [
      "\u001b[0;31m---------------------------------------------------------------------------\u001b[0m",
      "\u001b[0;31mKeyboardInterrupt\u001b[0m                         Traceback (most recent call last)",
      "\u001b[0;32m<ipython-input-68-152128d6231d>\u001b[0m in \u001b[0;36m<cell line: 0>\u001b[0;34m()\u001b[0m\n\u001b[0;32m----> 1\u001b[0;31m \u001b[0mnumber_util\u001b[0m \u001b[0;34m=\u001b[0m \u001b[0mint\u001b[0m\u001b[0;34m(\u001b[0m\u001b[0minput\u001b[0m\u001b[0;34m(\u001b[0m\u001b[0;34mf\"Quel livre voulez-vous?\"\u001b[0m\u001b[0;34m)\u001b[0m\u001b[0;34m)\u001b[0m\u001b[0;34m\u001b[0m\u001b[0;34m\u001b[0m\u001b[0m\n\u001b[0m\u001b[1;32m      2\u001b[0m \u001b[0mr\u001b[0m \u001b[0;34m=\u001b[0m \u001b[0;36m0\u001b[0m\u001b[0;34m\u001b[0m\u001b[0;34m\u001b[0m\u001b[0m\n\u001b[1;32m      3\u001b[0m \u001b[0;32mfor\u001b[0m \u001b[0mn\u001b[0m \u001b[0;32min\u001b[0m \u001b[0ma\u001b[0m\u001b[0;34m[\u001b[0m\u001b[0;36m0\u001b[0m\u001b[0;34m:\u001b[0m\u001b[0mnumber_util\u001b[0m\u001b[0;34m-\u001b[0m\u001b[0;36m1\u001b[0m\u001b[0;34m]\u001b[0m\u001b[0;34m:\u001b[0m\u001b[0;34m\u001b[0m\u001b[0;34m\u001b[0m\u001b[0m\n\u001b[1;32m      4\u001b[0m   \u001b[0mr\u001b[0m \u001b[0;34m+=\u001b[0m \u001b[0mn\u001b[0m\u001b[0;34m\u001b[0m\u001b[0;34m\u001b[0m\u001b[0m\n\u001b[1;32m      5\u001b[0m \u001b[0;34m\u001b[0m\u001b[0m\n",
      "\u001b[0;32m/usr/local/lib/python3.11/dist-packages/ipykernel/kernelbase.py\u001b[0m in \u001b[0;36mraw_input\u001b[0;34m(self, prompt)\u001b[0m\n\u001b[1;32m   1175\u001b[0m                 \u001b[0;34m\"raw_input was called, but this frontend does not support input requests.\"\u001b[0m\u001b[0;34m\u001b[0m\u001b[0;34m\u001b[0m\u001b[0m\n\u001b[1;32m   1176\u001b[0m             )\n\u001b[0;32m-> 1177\u001b[0;31m         return self._input_request(\n\u001b[0m\u001b[1;32m   1178\u001b[0m             \u001b[0mstr\u001b[0m\u001b[0;34m(\u001b[0m\u001b[0mprompt\u001b[0m\u001b[0;34m)\u001b[0m\u001b[0;34m,\u001b[0m\u001b[0;34m\u001b[0m\u001b[0;34m\u001b[0m\u001b[0m\n\u001b[1;32m   1179\u001b[0m             \u001b[0mself\u001b[0m\u001b[0;34m.\u001b[0m\u001b[0m_parent_ident\u001b[0m\u001b[0;34m[\u001b[0m\u001b[0;34m\"shell\"\u001b[0m\u001b[0;34m]\u001b[0m\u001b[0;34m,\u001b[0m\u001b[0;34m\u001b[0m\u001b[0;34m\u001b[0m\u001b[0m\n",
      "\u001b[0;32m/usr/local/lib/python3.11/dist-packages/ipykernel/kernelbase.py\u001b[0m in \u001b[0;36m_input_request\u001b[0;34m(self, prompt, ident, parent, password)\u001b[0m\n\u001b[1;32m   1217\u001b[0m             \u001b[0;32mexcept\u001b[0m \u001b[0mKeyboardInterrupt\u001b[0m\u001b[0;34m:\u001b[0m\u001b[0;34m\u001b[0m\u001b[0;34m\u001b[0m\u001b[0m\n\u001b[1;32m   1218\u001b[0m                 \u001b[0;31m# re-raise KeyboardInterrupt, to truncate traceback\u001b[0m\u001b[0;34m\u001b[0m\u001b[0;34m\u001b[0m\u001b[0m\n\u001b[0;32m-> 1219\u001b[0;31m                 \u001b[0;32mraise\u001b[0m \u001b[0mKeyboardInterrupt\u001b[0m\u001b[0;34m(\u001b[0m\u001b[0;34m\"Interrupted by user\"\u001b[0m\u001b[0;34m)\u001b[0m \u001b[0;32mfrom\u001b[0m \u001b[0;32mNone\u001b[0m\u001b[0;34m\u001b[0m\u001b[0;34m\u001b[0m\u001b[0m\n\u001b[0m\u001b[1;32m   1220\u001b[0m             \u001b[0;32mexcept\u001b[0m \u001b[0mException\u001b[0m\u001b[0;34m:\u001b[0m\u001b[0;34m\u001b[0m\u001b[0;34m\u001b[0m\u001b[0m\n\u001b[1;32m   1221\u001b[0m                 \u001b[0mself\u001b[0m\u001b[0;34m.\u001b[0m\u001b[0mlog\u001b[0m\u001b[0;34m.\u001b[0m\u001b[0mwarning\u001b[0m\u001b[0;34m(\u001b[0m\u001b[0;34m\"Invalid Message:\"\u001b[0m\u001b[0;34m,\u001b[0m \u001b[0mexc_info\u001b[0m\u001b[0;34m=\u001b[0m\u001b[0;32mTrue\u001b[0m\u001b[0;34m)\u001b[0m\u001b[0;34m\u001b[0m\u001b[0;34m\u001b[0m\u001b[0m\n",
      "\u001b[0;31mKeyboardInterrupt\u001b[0m: Interrupted by user"
     ]
    }
   ],
   "source": [
    "# Récupérer un livre demander par l'utilisateur\n",
    "number_util = int(input(f\"Quel livre voulez-vous?\"))\n",
    "r = 0\n",
    "for n in a[0:number_util-1]:\n",
    "  r += n\n",
    "\n",
    "print(r)\n",
    "\n",
    "\n",
    "\n",
    "texts[2]\n",
    "\n",
    "#essayer d'afficher le livre demandé par l'utilisateur"
   ]
  },
  {
   "cell_type": "code",
   "execution_count": 11,
   "metadata": {
    "id": "xQpir5vCJJHz"
   },
   "outputs": [],
   "source": [
    "#print(texts)"
   ]
  },
  {
   "cell_type": "code",
   "execution_count": null,
   "metadata": {
    "id": "ulyQhrwydOHx"
   },
   "outputs": [],
   "source": [
    "c = int(round(np.mean(a),2))"
   ]
  },
  {
   "cell_type": "code",
   "execution_count": null,
   "metadata": {
    "colab": {
     "base_uri": "https://localhost:8080/"
    },
    "id": "_AwFrlgydWOM",
    "outputId": "f4141772-10cd-471a-bce5-a9dbdf5d3a81"
   },
   "outputs": [
    {
     "name": "stdout",
     "output_type": "stream",
     "text": [
      "54177\n"
     ]
    }
   ],
   "source": [
    "print(c)"
   ]
  },
  {
   "cell_type": "code",
   "execution_count": null,
   "metadata": {
    "colab": {
     "base_uri": "https://localhost:8080/"
    },
    "id": "MgmbSacRdd4W",
    "outputId": "b31c6e28-5ecd-4529-96f1-f136d5620d33"
   },
   "outputs": [
    {
     "name": "stdout",
     "output_type": "stream",
     "text": [
      "54177.82178217822\n"
     ]
    }
   ],
   "source": [
    "# Calculer la moyenne de mot dans un livre à la man\n",
    "r = 0\n",
    "\n",
    "for c in a:\n",
    "  r += c\n",
    "\n",
    "mean = r / len(a)\n",
    "\n",
    "print(mean)\n"
   ]
  },
  {
   "cell_type": "code",
   "execution_count": 35,
   "metadata": {
    "colab": {
     "base_uri": "https://localhost:8080/",
     "height": 203
    },
    "id": "CYDpBHdrh1VE",
    "outputId": "2ad1b58c-3870-42d6-a931-6d30911ae2d6"
   },
   "outputs": [
    {
     "ename": "NameError",
     "evalue": "name 'mean' is not defined",
     "output_type": "error",
     "traceback": [
      "\u001b[0;31m---------------------------------------------------------------------------\u001b[0m",
      "\u001b[0;31mNameError\u001b[0m                                 Traceback (most recent call last)",
      "\u001b[0;32m<ipython-input-35-112777e8153c>\u001b[0m in \u001b[0;36m<cell line: 0>\u001b[0;34m()\u001b[0m\n\u001b[1;32m      1\u001b[0m \u001b[0mr\u001b[0m \u001b[0;34m=\u001b[0m \u001b[0;36m0\u001b[0m\u001b[0;34m\u001b[0m\u001b[0;34m\u001b[0m\u001b[0m\n\u001b[1;32m      2\u001b[0m \u001b[0;32mfor\u001b[0m \u001b[0mc\u001b[0m \u001b[0;32min\u001b[0m \u001b[0ma\u001b[0m\u001b[0;34m:\u001b[0m\u001b[0;34m\u001b[0m\u001b[0;34m\u001b[0m\u001b[0m\n\u001b[0;32m----> 3\u001b[0;31m   \u001b[0mr\u001b[0m \u001b[0;34m+=\u001b[0m \u001b[0;34m(\u001b[0m\u001b[0mc\u001b[0m \u001b[0;34m-\u001b[0m \u001b[0mmean\u001b[0m\u001b[0;34m)\u001b[0m \u001b[0;34m**\u001b[0m \u001b[0;36m2\u001b[0m\u001b[0;34m\u001b[0m\u001b[0;34m\u001b[0m\u001b[0m\n\u001b[0m\u001b[1;32m      4\u001b[0m \u001b[0mecart_type\u001b[0m \u001b[0;34m=\u001b[0m \u001b[0;34m(\u001b[0m\u001b[0mr\u001b[0m \u001b[0;34m/\u001b[0m \u001b[0mlen\u001b[0m\u001b[0;34m(\u001b[0m\u001b[0ma\u001b[0m\u001b[0;34m)\u001b[0m\u001b[0;34m)\u001b[0m \u001b[0;34m**\u001b[0m\u001b[0;34m(\u001b[0m\u001b[0;36m1\u001b[0m\u001b[0;34m/\u001b[0m\u001b[0;36m2\u001b[0m\u001b[0;34m)\u001b[0m\u001b[0;34m\u001b[0m\u001b[0;34m\u001b[0m\u001b[0m\n",
      "\u001b[0;31mNameError\u001b[0m: name 'mean' is not defined"
     ]
    }
   ],
   "source": [
    "# Calcul de l'écart type à la main\n",
    "r = 0\n",
    "for c in a:\n",
    "  r += (c - mean) ** 2\n",
    "ecart_type = (r / len(a)) **(1/2)"
   ]
  },
  {
   "cell_type": "code",
   "execution_count": null,
   "metadata": {
    "colab": {
     "base_uri": "https://localhost:8080/"
    },
    "id": "QQZA8GM5krlC",
    "outputId": "d62a0aa7-3367-4fc3-f0ee-2e1e07cd74af"
   },
   "outputs": [
    {
     "name": "stdout",
     "output_type": "stream",
     "text": [
      "41781.813269259255\n"
     ]
    }
   ],
   "source": [
    "print(ecart_type)"
   ]
  },
  {
   "cell_type": "code",
   "execution_count": null,
   "metadata": {
    "colab": {
     "base_uri": "https://localhost:8080/"
    },
    "id": "lCIGPSTZj2IE",
    "outputId": "d89d4831-11cd-44ba-fc95-737617bb4ead"
   },
   "outputs": [
    {
     "data": {
      "text/plain": [
       "np.float64(1.4142135623730951)"
      ]
     },
     "execution_count": 91,
     "metadata": {},
     "output_type": "execute_result"
    }
   ],
   "source": [
    "1./2.\n",
    "np.sqrt(2)"
   ]
  },
  {
   "cell_type": "code",
   "execution_count": null,
   "metadata": {
    "colab": {
     "base_uri": "https://localhost:8080/"
    },
    "id": "bigWmfpAjxmd",
    "outputId": "bd447c4b-2e04-44ee-9b64-497abc3b2057"
   },
   "outputs": [
    {
     "name": "stdout",
     "output_type": "stream",
     "text": [
      "1.4142135623730951\n",
      "\n",
      "\n"
     ]
    },
    {
     "data": {
      "text/plain": [
       "np.float64(1.4142135623730951)"
      ]
     },
     "execution_count": 97,
     "metadata": {},
     "output_type": "execute_result"
    }
   ],
   "source": [
    "print(2**(1./2.))\n",
    "print(\"\\n\")\n",
    "np.sqrt(2)"
   ]
  },
  {
   "cell_type": "code",
   "execution_count": 12,
   "metadata": {
    "colab": {
     "base_uri": "https://localhost:8080/"
    },
    "id": "Dgp9wnBZNj5u",
    "outputId": "767b2df3-0519-4a25-f702-cc86181b850c"
   },
   "outputs": [
    {
     "data": {
      "text/plain": [
       "1478412"
      ]
     },
     "execution_count": 12,
     "metadata": {},
     "output_type": "execute_result"
    }
   ],
   "source": [
    "#print(mes_textes)\n",
    "len(mes_textes)"
   ]
  },
  {
   "cell_type": "code",
   "execution_count": null,
   "metadata": {},
   "outputs": [],
   "source": []
  }
 ],
 "metadata": {
  "colab": {
   "provenance": []
  },
  "kernelspec": {
   "display_name": "Python 3 (ipykernel)",
   "language": "python",
   "name": "python3"
  },
  "language_info": {
   "codemirror_mode": {
    "name": "ipython",
    "version": 3
   },
   "file_extension": ".py",
   "mimetype": "text/x-python",
   "name": "python",
   "nbconvert_exporter": "python",
   "pygments_lexer": "ipython3",
   "version": "3.12.4"
  }
 },
 "nbformat": 4,
 "nbformat_minor": 4
}
