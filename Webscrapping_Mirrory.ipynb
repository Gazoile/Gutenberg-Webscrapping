{
 "cells": [
  {
   "cell_type": "markdown",
   "metadata": {
    "id": "Ddar7ZrhK1Kg"
   },
   "source": [
    "### PACKAGES ###"
   ]
  },
  {
   "cell_type": "code",
   "execution_count": 1,
   "metadata": {},
   "outputs": [],
   "source": [
    "import json"
   ]
  },
  {
   "cell_type": "code",
   "execution_count": 2,
   "metadata": {},
   "outputs": [],
   "source": [
    "import chardet\n",
    "import pickle"
   ]
  },
  {
   "cell_type": "code",
   "execution_count": 3,
   "metadata": {
    "colab": {
     "base_uri": "https://localhost:8080/"
    },
    "id": "tJxo1HY6mKyF",
    "outputId": "017d5bdc-abc2-4020-dd8f-cb7031ff0e48"
   },
   "outputs": [],
   "source": [
    "#import requests\n",
    "\n",
    "from tqdm import tqdm\n",
    "import requests\n",
    "\n",
    "from matplotlib.pyplot import plot\n",
    "#from google.colab import drive\n",
    "#drive.mount('/content/drive')\n",
    "\n",
    "import os\n",
    "import platform"
   ]
  },
  {
   "cell_type": "code",
   "execution_count": 4,
   "metadata": {},
   "outputs": [
    {
     "name": "stdout",
     "output_type": "stream",
     "text": [
      "/Users/sofianealouani/Documents/Gutenberg-Webscrapping\n"
     ]
    }
   ],
   "source": [
    "!pwd"
   ]
  },
  {
   "cell_type": "code",
   "execution_count": 5,
   "metadata": {},
   "outputs": [
    {
     "data": {
      "text/plain": [
       "'Darwin'"
      ]
     },
     "execution_count": 5,
     "metadata": {},
     "output_type": "execute_result"
    }
   ],
   "source": [
    "platform.system()"
   ]
  },
  {
   "cell_type": "code",
   "execution_count": null,
   "metadata": {},
   "outputs": [],
   "source": []
  },
  {
   "cell_type": "code",
   "execution_count": 6,
   "metadata": {
    "id": "XgwSkCTku6tA"
   },
   "outputs": [],
   "source": [
    "def recup_info(row):\n",
    "  #Cibler le soucis\n",
    "  debug = 0\n",
    "  #if \"Reminiscences of an Army nurse\" in row:\n",
    "  #debug  = 1\n",
    "\n",
    "  if debug == 1:\n",
    "    input(\"1 :\" + row)\n",
    "\n",
    "# traitement s ur les caractères spéciaux présent dans les lignes\n",
    "  if row[0] == \"~\":\n",
    "    return None,None,None\n",
    "\n",
    "  if row == \"\\n\":\n",
    "    return None,None,None\n",
    "\n",
    "  if \"TITLE and AUTHOR\" in row:\n",
    "    return None,None,None\n",
    "\n",
    "\n",
    "  #\n",
    "  if row:\n",
    "    id = row.split()[-1]\n",
    "\n",
    "    row = row.replace(id,\"\")\n",
    "\n",
    "    row = row.replace(\"\\n\",\"\")\n",
    "\n",
    "# trouver ou srette les espaces\n",
    "    # récupèrer l'index du 1er element qui n'est pas un espace en partant de la fin\n",
    "    # enlever les espaces en trop\n",
    "\n",
    "\n",
    "    if debug == 1:\n",
    "      input(\"2 :\" + row)\n",
    "\n",
    "    for i in range(len(row)):\n",
    "      if row[-1 - i] != \" \" and \" \":\n",
    "        row = row[:len(row) - i ]\n",
    "\n",
    "        break\n",
    "\n",
    "    if debug == 1:\n",
    "      input(\"3 :\" + row)\n",
    "\n",
    "\n",
    "\n",
    "  #j'instancie une variable vide pour y mettre la ligne du titre\n",
    "  titre_complet = \"\"\n",
    "  #tant que ', by' n'apparait pas dans la ligne c'est que le titre n'est pas encore complet.\n",
    "  while ', by' not in titre_complet:\n",
    "    # si il y a ', by' c'est que le titre est complet\n",
    "    if row:\n",
    "      # on stock le titre dans la variable\n",
    "      titre_complet = titre_complet + row.replace(\"\\n\",\"\")\n",
    "      # lecture de la prochaine ligne\n",
    "      row = f.readline()\n",
    "      if row == \"\\n\":\n",
    "        return None,None,None\n",
    "    # ??\n",
    "    else:\n",
    "      return None,None,None\n",
    "    # Equivalent à null mais avec une valeur ?\n",
    "\n",
    "    if debug == 1:\n",
    "      input(\"4 :\" + titre_complet)\n",
    "\n",
    "\n",
    "\n",
    "  # on nettoie la ligne contenant le titre de l'indentation et on split en\n",
    "  # deux avec le séparateur ', by' pour dissocier le titre de l'auteur\n",
    "  titre_complet = titre_complet.split(', by')\n",
    "\n",
    "  if debug == 1:\n",
    "      input(\"5 :\" + titre_complet[0])\n",
    "  #si titre est encore vid\n",
    "    # on lui assigne la premiere partie de la ligne actuelle\n",
    "  # on recupere la deuxieme partie de la ligne actuelle et on la split ? car\n",
    "  # cette deuxieme partie de la ligne contient plusieurs mots et ce qui nous intéresse\n",
    "  # c'est le dernier donc on split la deuxieme partie pour pouvoir slicer le dernier\n",
    "  # mot de celle-ci\n",
    "  #row1 = row[1].split()\n",
    "  # on passe à la ligne suivante\n",
    "  ##next_line = f.readline()\n",
    "  # tant qu'on a pas sauté de ligne\n",
    "  # donc que la ligne n'ai pas vide\n",
    "  while row != \"\\n\":\n",
    "    # et que si il y a du français dans cette ligne\n",
    "    if \"[Language: French]\" in row:\n",
    "\n",
    "\n",
    "      # alors on retourne le titre et l'ID de l'auteur\n",
    "      return titre_complet[0],titre_complet[1],id\n",
    "\n",
    "    # si il n'y a pas de français on passe à la ligne suivante\n",
    "    row = f.readline()\n",
    "  # ??\n",
    "  return None,None,None\n",
    "\n",
    "\n",
    "# Faire des reads line, à chaque résultat du readline\n",
    "# regarder si il y a le mot language et si oui si il y a le mot french\n",
    "# si c'est le cas on retourne nom du livre et numéro du livre jusqu'a ligne vide > return nom du bouqin , numéro ou rien\n",
    "\n",
    "\n"
   ]
  },
  {
   "cell_type": "code",
   "execution_count": 7,
   "metadata": {
    "colab": {
     "base_uri": "https://localhost:8080/"
    },
    "id": "gBlB9XKJDf1c",
    "outputId": "f6ee580a-e1f3-42c7-c621-469459972a96"
   },
   "outputs": [
    {
     "name": "stderr",
     "output_type": "stream",
     "text": [
      "100%|███████████████████████████████████████████████████████████████████████████████████████████████████████████████████████████████████████████████████████████████████████████| 260/260 [00:00<00:00, 539860.91it/s]\n"
     ]
    }
   ],
   "source": [
    "\n",
    "\n",
    "\n",
    "titre = []\n",
    "auteur = []\n",
    "id = []\n",
    "\n",
    "\n",
    "# on instancie un dico vide\n",
    "info = {}\n",
    "# on instancie un compteur à 0\n",
    "i = 0\n",
    "\n",
    "\n",
    "\n",
    "#chemin pour chaque os\n",
    "if platform.system() == \"Windows\":\n",
    "    path = \"index\\\\GUTINDEX.ALL\"\n",
    "else:\n",
    "    path = \"index/GUTINDEX.ALL\"\n",
    "\n",
    "f = open(path)\n",
    "\n",
    "\n",
    "for l in tqdm(range(260)):\n",
    "  f.readline()\n",
    "# lecture et affichage des 260 premières lignes du fichier car les titres de livre\n",
    "# commence à partir de la ligne 260 donc on met notre curseur sur 260 pour que plus\n",
    "# bas dans notre code quand on utilise un readline il soit directement sur le\n",
    "# contenu qui nous intéresse\n",
    "\n",
    "\n",
    "# lecture de la premiere ligne\n",
    "row = f.readline()\n",
    "\n",
    "# tant qu'il y a des lignes dans notre document\n",
    "while row:\n",
    "\n",
    "  # incrémente le compteur de 1 à chaque nouvelle ligne traiter\n",
    "  i += 1\n",
    "\n",
    "  if \"Audio: \" not in row:\n",
    "\n",
    "\n",
    "    # on stock dans 2 variables distinctes les retours de notre fonction ()\n",
    "    title,auteur,id = recup_info(row)\n",
    "  #print(title,auteur,id)\n",
    "  # Si le titre qui nous est retourné par la fonction n'est pas nul\n",
    "    if title != None:\n",
    "    # on le stock comme clé dans le dico et on lui assigne en valeur l'id auteur\n",
    "      info[title] = id\n",
    "  # passage à la ligne suivante\n",
    "  row = f.readline()\n",
    "  #print(row)\n",
    "\n",
    "\n",
    "\n",
    "\n",
    "  #print(i)\n",
    "\n",
    "\n",
    "\n",
    "# Obtenir une liste de tout les titres et de tous les auteurs et de tous les id , sans doublons de titre et d'auteur  si il apparait deux fois je ne le veux qu'une seule fois.\n"
   ]
  },
  {
   "cell_type": "code",
   "execution_count": 8,
   "metadata": {
    "colab": {
     "base_uri": "https://localhost:8080/"
    },
    "id": "9njsJn8cWIwM",
    "outputId": "60bfd752-1530-4546-f0ad-3f13469a7e21"
   },
   "outputs": [],
   "source": [
    "#print(type(info))"
   ]
  },
  {
   "cell_type": "code",
   "execution_count": 9,
   "metadata": {
    "colab": {
     "base_uri": "https://localhost:8080/"
    },
    "id": "mZLQXZQmVRLr",
    "outputId": "3724d1ee-7ff9-4b3f-c251-dee75b764963"
   },
   "outputs": [],
   "source": [
    "#print(len(info))"
   ]
  },
  {
   "cell_type": "code",
   "execution_count": 10,
   "metadata": {
    "colab": {
     "base_uri": "https://localhost:8080/"
    },
    "id": "rDdt4zE0YtVC",
    "outputId": "e8916a2d-184a-400e-bc78-29909ea68987"
   },
   "outputs": [],
   "source": [
    "#for livre in info:\n",
    "\n",
    "#  print(livre,info[livre])\n"
   ]
  },
  {
   "cell_type": "code",
   "execution_count": 11,
   "metadata": {
    "id": "eIgRzZpeFtss"
   },
   "outputs": [],
   "source": [
    "racine = \"http://aleph.gutenberg.org/\"\n",
    "\n",
    "#parcourir l'index du premier au dernier element puis ajouté à chaque fois le numéro et un slash à la racine.\n",
    "for titre in info:\n",
    "  id = info[titre]\n",
    "\n"
   ]
  },
  {
   "cell_type": "code",
   "execution_count": 12,
   "metadata": {
    "id": "z2HxLpqaCplA"
   },
   "outputs": [],
   "source": [
    "TEXT_START_MARKERS = (\n",
    "    \"*END*THE SMALL PRINT\",\n",
    "    \"*** START OF THE PROJECT GUTENBERG\",\n",
    "    \"*** START OF THIS PROJECT GUTENBERG\",\n",
    "    \"This etext was prepared by\",\n",
    "    \"E-text prepared by\",\n",
    "    \"Produced by\",\n",
    "    \"Distributed Proofreading Team\",\n",
    "    \"Proofreading Team at http://www.pgdp.net\",\n",
    "    \"http://gallica.bnf.fr)\",\n",
    "    \"      http://archive.org/details/\",\n",
    "    \"http://www.pgdp.net\",\n",
    "    \"by The Internet Archive)\",\n",
    "    \"by The Internet Archive/Canadian Libraries\",\n",
    "    \"by The Internet Archive/American Libraries\",\n",
    "    \"public domain material from the Internet Archive\",\n",
    "    \"Internet Archive)\",\n",
    "    \"Internet Archive/Canadian Libraries\",\n",
    "    \"Internet Archive/American Libraries\",\n",
    "    \"material from the Google Print project\",\n",
    "    \"*END THE SMALL PRINT\",\n",
    "    \"***START OF THE PROJECT GUTENBERG\",\n",
    "    \"This etext was produced by\",\n",
    "    \"*** START OF THE COPYRIGHTED\",\n",
    "    \"The Project Gutenberg\",\n",
    "    \"http://gutenberg.spiegel.de/ erreichbar.\",\n",
    "    \"Project Runeberg publishes\",\n",
    "    \"Beginning of this Project Gutenberg\",\n",
    "    \"Project Gutenberg Online Distributed\",\n",
    "    \"Gutenberg Online Distributed\",\n",
    "    \"the Project Gutenberg Online Distributed\",\n",
    "    \"Project Gutenberg TEI\",\n",
    "    \"This eBook was prepared by\",\n",
    "    \"http://gutenberg2000.de erreichbar.\",\n",
    "    \"This Etext was prepared by\",\n",
    "    \"This Project Gutenberg Etext was prepared by\",\n",
    "    \"Gutenberg Distributed Proofreaders\",\n",
    "    \"Project Gutenberg Distributed Proofreaders\",\n",
    "    \"the Project Gutenberg Online Distributed Proofreading Team\",\n",
    "    \"**The Project Gutenberg\",\n",
    "    \"*SMALL PRINT!\",\n",
    "    \"More information about this book is at the top of this file.\",\n",
    "    \"tells you about restrictions in how the file may be used.\",\n",
    "    \"l'authorization à les utilizer pour preparer ce texte.\",\n",
    "    \"of the etext through OCR.\",\n",
    "    \"*****These eBooks Were Prepared By Thousands of Volunteers!*****\",\n",
    "    \"We need your donations more than ever!\",\n",
    "    \" *** START OF THIS PROJECT GUTENBERG\",\n",
    "    \"****     SMALL PRINT!\",\n",
    "    '[\"Small Print\" V.',\n",
    "    '      (http://www.ibiblio.org/gutenberg/',\n",
    "    'and the Project Gutenberg Online Distributed Proofreading Team',\n",
    "    'Mary Meehan, and the Project Gutenberg Online Distributed Proofreading',\n",
    "    '                this Project Gutenberg edition.',\n",
    ")"
   ]
  },
  {
   "cell_type": "code",
   "execution_count": 13,
   "metadata": {
    "id": "1PZpTo-NCz7X"
   },
   "outputs": [],
   "source": [
    "TEXT_END_MARKERS = (\n",
    "    \"*** END OF THE PROJECT GUTENBERG\",\n",
    "    \"*** END OF THIS PROJECT GUTENBERG\",\n",
    "    \"***END OF THE PROJECT GUTENBERG\",\n",
    "    \"End of the Project Gutenberg\",\n",
    "    \"End of The Project Gutenberg\",\n",
    "    \"Ende dieses Project Gutenberg\",\n",
    "    \"by Project Gutenberg\",\n",
    "    \"End of Project Gutenberg\",\n",
    "    \"End of this Project Gutenberg\",\n",
    "    \"Ende dieses Projekt Gutenberg\",\n",
    "    \"        ***END OF THE PROJECT GUTENBERG\",\n",
    "    \"*** END OF THE COPYRIGHTED\",\n",
    "    \"End of this is COPYRIGHTED\",\n",
    "    \"Ende dieses Etextes \",\n",
    "    \"Ende dieses Project Gutenber\",\n",
    "    \"Ende diese Project Gutenberg\",\n",
    "    \"**This is a COPYRIGHTED Project Gutenberg Etext, Details Above**\",\n",
    "    \"Fin de Project Gutenberg\",\n",
    "    \"The Project Gutenberg Etext of \",\n",
    "    \"Ce document fut presente en lecture\",\n",
    "    \"Ce document fut présenté en lecture\",\n",
    "    \"More information about this book is at the top of this file.\",\n",
    "    \"We need your donations more than ever!\",\n",
    "    \"END OF PROJECT GUTENBERG\",\n",
    "    \" End of the Project Gutenberg\",\n",
    "    \" *** END OF THIS PROJECT GUTENBERG\",\n",
    ")"
   ]
  },
  {
   "cell_type": "code",
   "execution_count": 14,
   "metadata": {
    "id": "np904KvwIoHr"
   },
   "outputs": [],
   "source": [
    "\n",
    "LEGALESE_START_MARKERS = (\"<<THIS ELECTRONIC VERSION OF\",)\n",
    "LEGALESE_END_MARKERS = (\"SERVICE THAT CHARGES FOR DOWNLOAD\",)"
   ]
  },
  {
   "cell_type": "code",
   "execution_count": 15,
   "metadata": {
    "id": "51NHnVqCI2VU"
   },
   "outputs": [],
   "source": [
    "def strip_headers(text):\n",
    "\n",
    "    lines = text.splitlines()\n",
    "    sep = str(os.linesep)\n",
    "\n",
    "    out = []\n",
    "    i = 0\n",
    "    footer_found = False\n",
    "    ignore_section = False\n",
    "\n",
    "    for line in lines:\n",
    "        reset = False\n",
    "\n",
    "        if i <= 600:\n",
    "            # Check if the header ends here\n",
    "            if any(line.startswith(token) for token in TEXT_START_MARKERS):\n",
    "                reset = True\n",
    "\n",
    "            # If it's the end of the header, delete the output produced so far.\n",
    "            # May be done several times, if multiple lines occur indicating the\n",
    "            # end of the header\n",
    "            if reset:\n",
    "                out = []\n",
    "                continue\n",
    "\n",
    "        if i >= 100:\n",
    "            # Check if the footer begins here\n",
    "            if any(line.startswith(token) for token in TEXT_END_MARKERS):\n",
    "                footer_found = True\n",
    "\n",
    "            # If it's the beginning of the footer, stop output\n",
    "            if footer_found:\n",
    "                break\n",
    "\n",
    "        if any(line.startswith(token) for token in LEGALESE_START_MARKERS):\n",
    "            ignore_section = True\n",
    "            continue\n",
    "        elif any(line.startswith(token) for token in LEGALESE_END_MARKERS):\n",
    "            ignore_section = False\n",
    "            continue\n",
    "\n",
    "        if not ignore_section:\n",
    "            out.append(line.rstrip(sep))\n",
    "            i += 1\n",
    "\n",
    "    return sep.join(out)"
   ]
  },
  {
   "cell_type": "code",
   "execution_count": 16,
   "metadata": {
    "colab": {
     "base_uri": "https://localhost:8080/"
    },
    "id": "vXcsVbMR7ciY",
    "outputId": "17706588-7179-497b-bbe4-fd37e1b8a640",
    "scrolled": true
   },
   "outputs": [
    {
     "name": "stderr",
     "output_type": "stream",
     "text": [
      "100%|█████████████████████████████████████████████████████████████████████████████████████████████████████████████████████████████████████████████████████████████████████████████| 3705/3705 [30:12<00:00,  2.04it/s]"
     ]
    },
    {
     "name": "stdout",
     "output_type": "stream",
     "text": [
      "{'16934': 'ISO-8859-1', '16901': 'ISO-8859-1', '16888': 'ISO-8859-1', '16887': 'UTF-8-SIG', '16886': 'ISO-8859-1', '16885': 'ISO-8859-1', '16884': 'ISO-8859-1', '16883': 'ISO-8859-1', '16876': 'ISO-8859-1', '16875': 'ISO-8859-1', '16874': 'ISO-8859-1', '16862': 'ISO-8859-1', '16852': 'ISO-8859-1', '16851': 'ISO-8859-1', '16850': 'ISO-8859-1', '16849': 'ISO-8859-1', '16848': 'ISO-8859-1', '16828': 'ISO-8859-1', '16827': 'ISO-8859-1', '16826': 'ISO-8859-1', '16825': 'ISO-8859-1', '16824': 'ISO-8859-1', '16820': 'ISO-8859-1', '16817': 'ISO-8859-1', '16815': 'Windows-1252', '16814': 'ISO-8859-1', '16813': 'ISO-8859-1', '16812': 'ISO-8859-1', '16796': 'ISO-8859-1', '16795': 'ISO-8859-1', '16789': 'ISO-8859-1', '16758': 'ISO-8859-1', '16743': 'ISO-8859-1', '16710': 'ISO-8859-1', '16709': 'ISO-8859-1', '16649': 'ISO-8859-1', '16499': 'UTF-8-SIG', '16492': 'ISO-8859-1', '16465': 'ISO-8859-1', '16421': 'ISO-8859-1', '16388': 'ISO-8859-1', '16336': 'ISO-8859-1', '16286': 'ISO-8859-1', '16260': 'ISO-8859-1', '16240': 'UTF-8-SIG', '16239': 'ISO-8859-1', '16238': 'ISO-8859-1', '16237': 'ISO-8859-1', '16236': 'ISO-8859-1', '16235': 'ISO-8859-1', '16234': 'ISO-8859-1', '16210': 'ISO-8859-1', '16128': 'ISO-8859-1', '16067': 'ISO-8859-1', '16066': 'ISO-8859-1', '16023': 'ISO-8859-1', '16022': 'ISO-8859-1', '16021': 'ISO-8859-1', '16020': 'ISO-8859-1', '15943': 'ISO-8859-1', '15942': 'UTF-8-SIG', '15907': 'ISO-8859-1', '15885': 'ISO-8859-1', '15882': 'ISO-8859-1', '15871': 'ISO-8859-1', '15849': 'ISO-8859-1', '15848': 'ISO-8859-1', '15847': 'ISO-8859-1', '15846': 'ISO-8859-1', '15844': 'ISO-8859-1', '15823': 'ISO-8859-1', '15816': 'ISO-8859-1', '15815': 'ISO-8859-1', '15811': 'ISO-8859-1', '15804': 'ISO-8859-1', '15739': 'UTF-8-SIG', '15732': 'ISO-8859-1', '15686': 'UTF-8-SIG', '15646': 'ISO-8859-1', '15645': 'ISO-8859-1', '15642': 'ISO-8859-1', '15635': 'ISO-8859-1', '15626': 'ISO-8859-1', '15598': 'UTF-8-SIG', '15593': 'ISO-8859-1', '15589': 'ISO-8859-1', '15584': 'ISO-8859-1', '15579': 'UTF-8-SIG', '15574': 'ISO-8859-1', '15558': 'Windows-1252', '15557': 'ISO-8859-1', '15556': 'ISO-8859-1', '15555': 'ISO-8859-1', '15554': 'UTF-8-SIG', '15543': 'ISO-8859-1', '15463': 'ISO-8859-1', '15462': 'ISO-8859-1', '15459': 'ISO-8859-1', '15458': 'ISO-8859-1', '15434': 'ISO-8859-1', '15433': 'ISO-8859-1', '15397': 'ISO-8859-1', '15388': 'ISO-8859-1', '15375': 'ISO-8859-1', '15372': 'Windows-1252', '15371': 'ISO-8859-1', '15361': 'ISO-8859-1', '15324': 'ISO-8859-1', '15312': 'ISO-8859-1', '15305': 'ISO-8859-1', '15303': 'ISO-8859-1', '15297': 'ISO-8859-1', '15296': 'ISO-8859-1', '15295': 'Windows-1252', '15288': 'ISO-8859-1', '15287': 'ISO-8859-1', '15286': 'ISO-8859-1', '15239': 'UTF-8-SIG', '15235': 'ISO-8859-1', '15226': 'ISO-8859-1', '15212': 'ISO-8859-1', '15208': 'ISO-8859-1', '15203': 'ISO-8859-1', '15152': 'ISO-8859-1', '15150': 'ISO-8859-1', '15146': 'ISO-8859-1', '15113': 'UTF-8-SIG', '15112': 'ISO-8859-1', '15107': 'UTF-8-SIG', '15075': 'ISO-8859-1', '15071': 'ISO-8859-1', '15060': 'Windows-1252', '15059': 'ISO-8859-1', '15058': 'ISO-8859-1', '15057': 'ISO-8859-1', '15032': 'ISO-8859-1', '14918': 'ISO-8859-1', '14913': 'ISO-8859-1', '14912': 'ISO-8859-1', '14911': 'ISO-8859-1', '14905': 'ISO-8859-1', '14828': 'utf-8', '14827': 'utf-8', '14820': 'utf-8', '14810': 'utf-8', '14806': 'utf-8', '14805': 'utf-8', '14804': 'utf-8', '14803': 'utf-8', '14799': 'utf-8', '14793': 'utf-8', '14792': 'utf-8', '14791': 'utf-8', '14790': 'utf-8', '14789': 'utf-8', '14788': 'utf-8', '14751': 'utf-8', '14720': 'utf-8', '14713': 'utf-8', '14705': 'utf-8', '14704': 'utf-8', '14703': 'utf-8', '14702': 'utf-8', '14693': 'utf-8', '14692': 'utf-8', '14688': 'utf-8', '14677': 'utf-8', '14609': 'utf-8', '14564': 'utf-8', '14541': 'utf-8', '14539': 'utf-8', '14538': 'utf-8', '14537': 'utf-8', '14536': 'utf-8', '14512': 'utf-8', '14404': 'utf-8', '14399': 'utf-8', '14398': 'utf-8', '14397': 'utf-8', '14372': 'utf-8', '14343': 'utf-8', '14310': 'utf-8', '14309': 'utf-8', '14288': 'utf-8', '14287': 'utf-8', '14286': 'utf-8', '14285': 'utf-8', '14259': 'utf-8', '14251': 'utf-8', '14247': 'utf-8', '14192': 'utf-8', '14163': 'utf-8', '14159': 'utf-8', '14158': 'utf-8', '14157': 'utf-8', '14156': 'utf-8', '14155': 'utf-8', '14151': 'utf-8', '14113': 'utf-8', '14082': 'utf-8', '14071': 'utf-8', '14069': 'utf-8', '14059': 'utf-8', '14038': 'utf-8', '14030': 'utf-8', '13981': 'utf-8', '13965': 'utf-8', '13952': 'utf-8', '13951': 'utf-8', '13950': 'utf-8', '13949': 'utf-8', '13948': 'utf-8', '13947': 'utf-8', '13938': 'utf-8', '13917': 'utf-8', '13914': 'utf-8', '13892': 'utf-8', '13875': 'utf-8', '13868': 'utf-8', '13866': 'utf-8', '13863': 'utf-8', '13862': 'utf-8', '13861': 'utf-8', '13857': 'utf-8', '13856': 'utf-8', '13855': 'utf-8', '13848': 'utf-8', '13846': 'utf-8', '13839': 'utf-8', '13838': 'utf-8', '13837': 'utf-8', '13834': 'UTF-8-SIG', '13825': 'utf-8', '13819': 'utf-8', '13818': 'utf-8', '13808': 'utf-8', '13807': 'utf-8', '13804': 'utf-8', '13795': 'UTF-8-SIG', '13794': 'utf-8', '13793': 'utf-8', '13792': 'utf-8', '13772': 'utf-8', '13771': 'utf-8', '13765': 'utf-8', '13744': 'utf-8', '13743': 'utf-8', '13737': 'utf-8', '13735': 'utf-8', '13734': 'utf-8', '13727': 'utf-8', '13704': 'utf-8', '13703': 'utf-8', '13676': 'utf-8', '13671': 'utf-8', '13668': 'utf-8', '13654': 'utf-8', '13653': 'utf-8', '13629': 'utf-8', '13628': 'utf-8', '13622': 'utf-8', '13607': 'utf-8', '13598': 'utf-8', '13594': 'utf-8', '13592': 'utf-8', '13562': 'utf-8', '13557': 'utf-8', '13525': 'utf-8', '13524': 'utf-8', '13523': 'utf-8', '13490': 'utf-8', '13478': 'utf-8', '13475': 'utf-8', '13456': 'utf-8', '13431': 'utf-8', '13400': 'utf-8', '13385': 'utf-8', '13383': 'utf-8', '13380': 'utf-8', '13374': 'utf-8', '13339': 'utf-8', '13336': 'utf-8', '13303': 'utf-8', '13299': 'utf-8', '13284': 'utf-8', '13263': 'utf-8', '13258': 'utf-8', '13256': 'utf-8', '13247': 'utf-8', '13230': 'utf-8', '13221': 'utf-8', '13219': 'utf-8', '13207': 'utf-8', '13198': 'utf-8', '13192': 'utf-8', '13190': 'utf-8', '13189': 'utf-8', '13187': 'utf-8', '13149': 'utf-8', '13122': 'utf-8', '13096': 'utf-8', '13070': 'utf-8', '13059': 'utf-8', '13038': 'utf-8', '13036': 'utf-8', '13027': 'utf-8', '13025': 'utf-8', '13024': 'utf-8', '13016': 'utf-8', '13013': 'utf-8', '12999': 'utf-8', '12993': 'utf-8', '12979': 'utf-8', '12969': 'utf-8', '12950': 'utf-8', '12893': 'utf-8', '12889': 'utf-8', '12869': 'utf-8', '12865': 'utf-8', '12862': 'utf-8', '12837': 'utf-8', '12829': 'utf-8', '12812': 'utf-8', '12783': 'utf-8', '12782': 'utf-8', '12752': 'utf-8', '12751': 'utf-8', '12749': 'utf-8', '12727': 'utf-8', '12726': 'utf-8', '12666': 'utf-8', '12665': 'utf-8', '12646': 'utf-8', '12620': 'utf-8', '12603': 'utf-8', '12602': 'utf-8', '12566': 'utf-8', '12562': 'utf-8', '12534': 'utf-8', '12533': 'utf-8', '12489': 'utf-8', '12488': 'utf-8', '12487': 'utf-8', '12459': 'utf-8', '12448': 'utf-8', '12437': 'utf-8', '12401': 'utf-8', '12399': 'utf-8', '12367': 'utf-8', '12365': 'utf-8', '12356': 'utf-8', '12338': 'utf-8', '12332': 'utf-8', '12331': 'utf-8', '12301': 'utf-8', '12295': 'utf-8', '12289': 'utf-8', '12271': 'utf-8', '12258': 'utf-8', '12251': 'utf-8', '12250': 'utf-8', '12247': 'utf-8', '12246': 'utf-8', '12230': 'utf-8', '12174': 'utf-8', '12120': 'utf-8', '12105': 'utf-8', '12080': 'utf-8', '12072': 'utf-8', '12065': 'utf-8', '12011': 'utf-8', '12005': 'utf-8', '11964': 'utf-8', '11928': 'utf-8', '11927': 'utf-8', '11905': 'utf-8', '11893': 'utf-8', '11769': 'utf-8', '11767': 'utf-8', '11766': 'utf-8', '11747': 'utf-8', '11744': 'utf-8', '11714': 'utf-8', '11678': 'utf-8', '11650': 'utf-8', '11646': 'utf-8', '11645': 'utf-8', '11622': 'utf-8', '11621': 'utf-8', '11597': 'utf-8', '11596': 'utf-8', '11590': 'ISO-8859-1', '11589': 'utf-8', '11495': 'utf-8', '11494': 'utf-8', '11484': 'ISO-8859-1', '11453': 'ISO-8859-1', '11450': 'utf-8', '11434': 'utf-8', '11423': 'utf-8', '11380': 'utf-8', '11301': 'utf-8', '11300': 'utf-8', '11199': 'utf-8', '11178': 'utf-8', '11176': 'utf-8', '11175': 'utf-8', '11132': 'utf-8', '11131': 'utf-8', '11049': 'utf-8', '11048': 'utf-8', '11046': 'utf-8', '11042': 'utf-8', '11038': 'utf-8', '11037': 'utf-8', '11036': 'utf-8', '11035': 'utf-8', '10982': 'utf-8', '10953': 'utf-8', '10906': 'utf-8', '10841': 'utf-8', '10824': 'utf-8', '10775': 'utf-8', '10774': 'utf-8', '10768': 'utf-8', '10764': 'utf-8', '10746': 'utf-8', '10697': 'utf-8', '10689': 'utf-8', '10687': 'utf-8', '10685': 'utf-8', '10683': 'utf-8', '10682': 'utf-8', '10680': 'utf-8', '10678': 'utf-8', '10604': 'utf-8', '10442': 'utf-8', '10385': 'utf-8', '10384': 'utf-8', '10346': 'utf-8', '10290': 'ISO-8859-1', '10289': 'utf-8', '10160': 'utf-8', '10061': 'utf-8', '10053': 'utf-8', '9976': 'ISO-8859-1', '9945': 'ISO-8859-1', '9894': 'ISO-8859-1', '9893': 'ISO-8859-1', '9892': 'ISO-8859-1', '9891': 'ISO-8859-1', '9824': 'Windows-1252', '9818': 'Windows-1252', '9655': 'ISO-8859-1', '9645': 'Windows-1252', '9644': 'ISO-8859-1', '9643': 'ISO-8859-1', '9639': 'ISO-8859-1', '9638': 'ISO-8859-1', '9637': 'ISO-8859-1', '9453': 'ISO-8859-1', '9262': 'ISO-8859-1', '9261': 'ISO-8859-1', '9053': 'ISO-8859-1', '8946': 'UTF-8-SIG', '8907': 'ISO-8859-1', '8876': 'Windows-1252', '8864': 'ISO-8859-1', '8863': 'Windows-1252', '8822': 'ISO-8859-1', '8739': 'ISO-8859-1', '8719': 'UTF-8-SIG', '8712': 'ISO-8859-1', '8693': 'UTF-8-SIG', '8692': 'UTF-8-SIG', '8650': 'UTF-8-SIG', '8563': 'ISO-8859-1', '8561': 'ISO-8859-1', '8560': 'ISO-8859-1', '8541': 'Windows-1252', '8524': 'ISO-8859-1', '8520': 'ISO-8859-1', '8490': 'Windows-1252', '8454': 'ISO-8859-1', '8453': 'ascii', '8416': 'ISO-8859-1', '8186': 'ascii', '8175': 'ISO-8859-1', '8174': 'ISO-8859-1', '8173': 'Windows-1252', '8074': 'Windows-1252', '7854': 'ISO-8859-1', '7818': 'ascii', '7812': 'ISO-8859-1', '7809': 'Windows-1252', '7772': 'Windows-1252', '7771': 'ISO-8859-1', '7770': 'ISO-8859-1', '7462': 'ISO-8859-1', '7461': 'UTF-8-SIG', '7268': 'ISO-8859-1', '7263': 'ISO-8859-1', '7173': 'ISO-8859-1', '7012': 'Windows-1252', '6994': 'UTF-8-SIG', '6966': 'ascii', '6838': 'ISO-8859-1', '6739': 'ISO-8859-1', '6691': 'ISO-8859-1', '6558': 'ISO-8859-1', '6501': 'UTF-8-SIG', '6497': 'UTF-8-SIG', '6484': 'ISO-8859-1', '6470': 'ISO-8859-1', '6377': 'UTF-8-SIG', '6319': 'UTF-8-SIG', '6318': 'ISO-8859-1', '6099': 'ISO-8859-1', '5892': 'ISO-8859-1', '5781': 'UTF-8-SIG', '5712': 'ascii', '5644': 'ISO-8859-1', '5423': 'UTF-8-SIG', '5318': 'ISO-8859-1', '5258': 'ISO-8859-1', '5250': 'ISO-8859-1', '5178': 'ISO-8859-1', '5158': 'ISO-8859-1', '5154': 'utf-8', '5147': 'ISO-8859-1', '5138': 'ISO-8859-1', '5130': 'ISO-8859-1', '5126': 'UTF-8-SIG', '5105': 'Windows-1252', '5104': 'ISO-8859-1', '5097': 'UTF-8-SIG', '5096': 'ISO-8859-1', '5095': 'ISO-8859-1', '5082': 'UTF-8-SIG', '5081': 'ISO-8859-1', '4968': 'UTF-8-SIG', '4936': 'ISO-8859-1', '4935': 'ISO-8859-1', '4933': 'ISO-8859-1', '4791': 'UTF-8-SIG', '4772': 'ISO-8859-1', '4771': 'ISO-8859-1', '4741': 'UTF-8-SIG', '4740': 'UTF-8-SIG', '4718': 'utf-8', '4717': 'Windows-1252', '4708': 'ISO-8859-1', '4688': 'utf-8', '4651': 'UTF-8-SIG', '4650': 'UTF-8-SIG', '4649': 'utf-8', '4648': 'utf-8', '4647': 'UTF-8-SIG', '4570': 'utf-8', '4569': 'UTF-8-SIG', '4568': 'UTF-8-SIG', '4567': 'UTF-8-SIG', '4566': 'UTF-8-SIG', '4565': 'UTF-8-SIG', '4564': 'UTF-8-SIG', '4563': 'UTF-8-SIG', '4562': 'UTF-8-SIG', '4561': 'UTF-8-SIG', '4559': 'ISO-8859-1', '4548': 'UTF-8-SIG', '3645': 'ISO-8859-1', '3644': 'ISO-8859-1', '3456': 'ISO-8859-1', '2998': 'UTF-8-SIG', '2682': 'ISO-8859-1', '2650': 'UTF-8-SIG', '2419': 'UTF-8-SIG', '1981': 'UTF-8-SIG', '1910': 'ascii', '1256': 'utf-8', '803': 'ISO-8859-1', '802': 'ISO-8859-1', '801': 'ISO-8859-1', '800': 'ISO-8859-1', '799': 'UTF-8-SIG', '798': 'ISO-8859-1', '797': 'ISO-8859-1', '796': 'UTF-8-SIG', '249': 'UTF-8-SIG'}\n"
     ]
    },
    {
     "name": "stderr",
     "output_type": "stream",
     "text": [
      "\n"
     ]
    }
   ],
   "source": [
    "#incrémentation sur str pas possible\n",
    "i=0\n",
    "encoding_text = {}\n",
    "\n",
    "\n",
    " #chemin relatif selon os\n",
    "if platform.system() == \"Windows\":\n",
    "    path = \"text\\\\\"\n",
    "else:\n",
    "    path = \"text/\"\n",
    "\n",
    "# récupère la liste des fichiers présent dans le dossier text\n",
    "text_content = os.listdir(path)\n",
    "\n",
    "if \"nos_encoding.json\" in text_content:\n",
    "    nos_encoding = open(path + \"nos_encoding.json\", mode=\"rb\")\n",
    "\n",
    "    encoding_text = pickle.load(nos_encoding)\n",
    "\n",
    "    nos_encoding.close()\n",
    "\n",
    "nos_encoding = open(path + \"nos_encoding.json\", mode=\"wb\")\n",
    "\n",
    "for titre in tqdm(info):\n",
    "  i+=1\n",
    "  id = info[titre]\n",
    "  #if id[-1] == \"C\":\n",
    "  #  id = id[:-1]\n",
    "\n",
    "  id = id.replace(\"C\",\"\")\n",
    "  id_f = \"\"\n",
    "  for e in id[:-1]:\n",
    "    id_f = id_f + e + \"/\"\n",
    "\n",
    "    #print(id_f)\n",
    "  gut = id_f + id\n",
    "\n",
    "\n",
    "  if id + \".txt\" in text_content and os.path.getsize(path + f\"{id}.txt\") > 0:\n",
    "      continue \n",
    "\n",
    "\n",
    "    \n",
    "  url_fi = racine + gut\n",
    "  corpus = requests.get(url_fi)\n",
    "  resultat = \"\"\n",
    "  index = corpus.text.find(\".txt\")\n",
    "  if index != -1:\n",
    "    for e in corpus.text[index+3:0:-1]:\n",
    "      resultat = e + resultat\n",
    "      if e == \"-\":\n",
    "        break\n",
    "    url_fi = url_fi + \"/\" + id + resultat\n",
    "    corpus.close()  \n",
    "    corpus = requests.get(url_fi)\n",
    "\n",
    "\n",
    "\n",
    "      \n",
    "    \n",
    "    result = chardet.detect(corpus.content)\n",
    "\n",
    "      \n",
    "    corpus.encoding=result['encoding']\n",
    "    #print(corpus.encoding)\n",
    "    corpus1 = corpus.text \n",
    "    corpus1 = strip_headers(corpus1)\n",
    "    corpus.close()\n",
    "    encoding_text[id] = result['encoding']\n",
    "\n",
    "    pickle.dump(encoding_text, nos_encoding)\n",
    "\n",
    "        \n",
    "   \n",
    "    \n",
    "    #z = open(f\"/content/drive/MyDrive/Test/{id}.txt\",mode=\"w\",encoding=\"utf-8\")\n",
    "    # ouverture du fichier d'un texte \"nom d'un id\"\n",
    "    z = open(path + f\"{id}.txt\", mode=\"w\",encoding=result['encoding'])\n",
    "    \n",
    "#recup la list des fichiers que j'ai déjà\n",
    "      \n",
    "      # pour chacun des ficheirs que je veux récup sur internet voir si je l'ai déjà si c le cas ksip\n",
    "\n",
    "    z.write(corpus1)\n",
    "    z.close()\n",
    "    #print(id)\n",
    "    #print(url_fi)\n",
    "    #if i == 3:\n",
    "      #break\n",
    "  #if id[-1] == \"C\":\n",
    "  #  id = id[:-1]\n",
    "\n",
    "\n",
    "\n",
    "\n",
    "# la référence au fichier n'est pas libéré et donc la fonction write est toujours en attente d'ajout au buffer\n",
    "nos_encoding.close()"
   ]
  },
  {
   "cell_type": "code",
   "execution_count": 25,
   "metadata": {},
   "outputs": [],
   "source": [
    "nos_encoding = open(path + \"nos_encoding.json\", mode=\"rb\")\n",
    "dicz = pickle.load(nos_encoding)"
   ]
  },
  {
   "cell_type": "code",
   "execution_count": 26,
   "metadata": {},
   "outputs": [
    {
     "name": "stdout",
     "output_type": "stream",
     "text": [
      "{}\n"
     ]
    }
   ],
   "source": [
    "print(dicz)"
   ]
  },
  {
   "cell_type": "code",
   "execution_count": 29,
   "metadata": {
    "id": "Qt1psIe3N3L6"
   },
   "outputs": [
    {
     "data": {
      "text/plain": [
       "-1"
      ]
     },
     "execution_count": 29,
     "metadata": {},
     "output_type": "execute_result"
    }
   ],
   "source": [
    "corpus.text.find(\".txt\")"
   ]
  },
  {
   "cell_type": "code",
   "execution_count": 30,
   "metadata": {
    "id": "jaubCxRVtdTG"
   },
   "outputs": [
    {
     "data": {
      "text/plain": [
       "'\\r\\n</pr'"
      ]
     },
     "execution_count": 30,
     "metadata": {},
     "output_type": "execute_result"
    }
   ],
   "source": [
    "corpus.text[355:361]"
   ]
  },
  {
   "cell_type": "code",
   "execution_count": 31,
   "metadata": {
    "id": "ZhHGOWgn1BMI"
   },
   "outputs": [
    {
     "name": "stdout",
     "output_type": "stream",
     "text": [
      "-\n",
      "</pre\n"
     ]
    }
   ],
   "source": [
    "resultat = \"\"\n",
    "for e in corpus.text[361:0:-1]:\n",
    "    resultat = e + resultat\n",
    "    if e == \"-\":\n",
    "        break\n",
    "\n",
    "print(resultat)"
   ]
  },
  {
   "cell_type": "code",
   "execution_count": 32,
   "metadata": {
    "id": "yKN4HmaTOHJ0"
   },
   "outputs": [
    {
     "name": "stdout",
     "output_type": "stream",
     "text": [
      "http://aleph.gutenberg.org/1/1/0/4/11040\n"
     ]
    }
   ],
   "source": [
    "id0 = id + corpus.text[355:361]\n",
    "\n",
    "\n",
    "#remonter en arriere jusqu'au tiret\n",
    "#tant qu'on ne trouve pas de tiret continuer\n",
    "#print(id0)\n",
    "\n",
    "#url_fi = url_fi + \"/\" + id0\n",
    "print(url_fi)\n"
   ]
  },
  {
   "cell_type": "code",
   "execution_count": 33,
   "metadata": {
    "id": "ozWRlah-QRTv"
   },
   "outputs": [],
   "source": [
    "livre = requests.get(url_fi).text\n"
   ]
  },
  {
   "cell_type": "code",
   "execution_count": 34,
   "metadata": {
    "id": "wp8UYX3q6E_Y"
   },
   "outputs": [
    {
     "name": "stdout",
     "output_type": "stream",
     "text": [
      "<html>\n",
      "<head><title>Index of /1/1/0/4/11040/</title></head>\n",
      "<body>\n",
      "<h1>Index of /1/1/0/4/11040/</h1><hr><pre><a href=\"../\">../</a>\n",
      "<a href=\"11040-h/\">11040-h/</a>                                           28-Oct-2024 22:23                   -\n",
      "<a href=\"old/\">old/</a>                                               28-Dec-2024 16:48                   -\n",
      "</pre><hr></body>\n",
      "</html>\n",
      "\n"
     ]
    }
   ],
   "source": [
    "print(livre)"
   ]
  },
  {
   "cell_type": "code",
   "execution_count": null,
   "metadata": {
    "id": "JyFxMidn2oLU"
   },
   "outputs": [],
   "source": [
    "#and eBook #12714 is in this subdirectory:\n",
    "        #1/2/7/1/12714"
   ]
  },
  {
   "cell_type": "code",
   "execution_count": null,
   "metadata": {
    "id": "BDte1J1Q2oCa"
   },
   "outputs": [],
   "source": []
  }
 ],
 "metadata": {
  "colab": {
   "provenance": []
  },
  "kernelspec": {
   "display_name": "Python 3 (ipykernel)",
   "language": "python",
   "name": "python3"
  },
  "language_info": {
   "codemirror_mode": {
    "name": "ipython",
    "version": 3
   },
   "file_extension": ".py",
   "mimetype": "text/x-python",
   "name": "python",
   "nbconvert_exporter": "python",
   "pygments_lexer": "ipython3",
   "version": "3.12.4"
  }
 },
 "nbformat": 4,
 "nbformat_minor": 4
}
