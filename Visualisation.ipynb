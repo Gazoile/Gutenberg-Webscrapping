{
 "cells": [
  {
   "cell_type": "code",
   "execution_count": null,
   "id": "0afd6c74-592b-43da-ae96-3f0cfe4dd7d1",
   "metadata": {},
   "outputs": [],
   "source": [
    "import platform\n",
    "import nltk\n",
    "import spacy"
   ]
  },
  {
   "cell_type": "code",
   "execution_count": null,
   "id": "47dab826-2819-46c5-820b-b037c8c5c557",
   "metadata": {},
   "outputs": [],
   "source": [
    "if platform.system() == \"Windows\":\n",
    "    path = \"text_tokenized\\\\all_text.txt\"\n",
    "else:\n",
    "    path = \"text_tokenized/all_text.txt\"\n",
    "    \n",
    "f = open(path,mode=\"r\",encoding=\"utf-8\")\n",
    "\n",
    "text2 = f.read()\n",
    "\n",
    "\n",
    "texts = text2.split()\n"
   ]
  },
  {
   "cell_type": "code",
   "execution_count": null,
   "id": "47ec93c4-d756-408e-8ddf-e5f15571bd9b",
   "metadata": {},
   "outputs": [],
   "source": [
    "print(texts[60])"
   ]
  },
  {
   "cell_type": "code",
   "execution_count": null,
   "id": "34500f42-c7bc-418f-81b3-9f72b85a9728",
   "metadata": {},
   "outputs": [],
   "source": [
    "print(len(texts))"
   ]
  },
  {
   "cell_type": "code",
   "execution_count": null,
   "id": "f7025dfb-34b8-4478-b52c-789a57b7703c",
   "metadata": {},
   "outputs": [],
   "source": [
    "compteur = {}\n",
    "for mot in texts:\n",
    "    if mot not in compteur:\n",
    "        compteur[mot] = 1\n",
    "    else:\n",
    "        compteur[mot] += 1\n",
    "print(compteur)\n"
   ]
  },
  {
   "cell_type": "code",
   "execution_count": null,
   "id": "5919075a-2db2-4351-81cb-65fc6db2c83c",
   "metadata": {},
   "outputs": [],
   "source": [
    "L = {}\n",
    "for v in compteur:\n",
    "  if len(v) >= 5 :\n",
    "    L[v] = compteur[v]"
   ]
  },
  {
   "cell_type": "code",
   "execution_count": null,
   "id": "07a8bd73-ce8d-4628-a67c-2a41bf5ae088",
   "metadata": {},
   "outputs": [],
   "source": [
    "print(L)"
   ]
  },
  {
   "cell_type": "code",
   "execution_count": null,
   "id": "18da9281-0789-4ed4-85ee-d4ff472a9f91",
   "metadata": {},
   "outputs": [],
   "source": [
    "max = 0\n",
    "mot = \"\"\n",
    "for e in L:\n",
    "    if L[e] > max:\n",
    "        max = L[e]\n",
    "        mot = e\n",
    "        "
   ]
  },
  {
   "cell_type": "code",
   "execution_count": null,
   "id": "d2c79872-f999-428d-810d-39be062c8219",
   "metadata": {},
   "outputs": [],
   "source": [
    "print(max)"
   ]
  },
  {
   "cell_type": "code",
   "execution_count": null,
   "id": "17b85f9f-f495-4dae-8ae2-a856e848b5e6",
   "metadata": {},
   "outputs": [],
   "source": [
    "print(mot)"
   ]
  },
  {
   "cell_type": "code",
   "execution_count": null,
   "id": "979326a4-6aa4-444a-9b0d-0f2d5c52832c",
   "metadata": {},
   "outputs": [],
   "source": [
    "nos_mots = []\n",
    "for c in range(5):\n",
    "    max = 0\n",
    "    mot = \"\"\n",
    "    for e in L:\n",
    "        if L[e] > max and e not in nos_mots:\n",
    "            max = L[e]\n",
    "            mot = e\n",
    "            \n",
    "    nos_mots.append(mot)\n",
    "        "
   ]
  },
  {
   "cell_type": "code",
   "execution_count": null,
   "id": "281e4e92-2de8-43a1-a7ac-d2123fa63f0a",
   "metadata": {},
   "outputs": [],
   "source": [
    "print(nos_mots)"
   ]
  },
  {
   "cell_type": "code",
   "execution_count": null,
   "id": "af13d106-e32c-4eb9-9711-a0a6e590957f",
   "metadata": {},
   "outputs": [],
   "source": [
    "nos_mots = {}\n",
    "for c in range(5):\n",
    "    max = 0\n",
    "    mot = \"\"\n",
    "    for e in L:\n",
    "        if L[e] > max and e not in nos_mots:\n",
    "            max = L[e]\n",
    "            mot = e\n",
    "\n",
    "    nos_mots[mot] = max\n",
    "        "
   ]
  },
  {
   "cell_type": "code",
   "execution_count": null,
   "id": "d3d20618-88f4-4353-ba53-5957103920d6",
   "metadata": {},
   "outputs": [],
   "source": [
    "print(nos_mots)"
   ]
  },
  {
   "cell_type": "code",
   "execution_count": null,
   "id": "1fe47e99-e4bc-4550-a56c-78785dcfe637",
   "metadata": {},
   "outputs": [],
   "source": [
    "\n",
    "slicing = 95000"
   ]
  },
  {
   "cell_type": "code",
   "execution_count": null,
   "id": "f454512a-3ad2-41f5-9a35-df75bc8c722b",
   "metadata": {},
   "outputs": [],
   "source": [
    "print(text2[0:9])"
   ]
  },
  {
   "cell_type": "code",
   "execution_count": null,
   "id": "e4a1c865-a376-45b9-8cc7-d82daeca009c",
   "metadata": {},
   "outputs": [],
   "source": [
    " text2[0:slicing]"
   ]
  },
  {
   "cell_type": "code",
   "execution_count": null,
   "id": "c9df3363-c30c-41f9-a7fe-324325c13067",
   "metadata": {},
   "outputs": [],
   "source": [
    "# Permet de stocker les mots entiers contenu dans les x premiers caractères\n",
    "while \" \" !=  text2[slicing]:\n",
    "    slicing = slicing + 1\n",
    "chunk = text2[0:slicing]"
   ]
  },
  {
   "cell_type": "code",
   "execution_count": null,
   "id": "05fe9157-e9fc-4ced-8bc0-c8f07e8ee6a3",
   "metadata": {},
   "outputs": [],
   "source": [
    "slicing2 = 1000000"
   ]
  },
  {
   "cell_type": "code",
   "execution_count": null,
   "id": "1a52d884-264e-4f9d-b082-ac215d8e36ff",
   "metadata": {},
   "outputs": [],
   "source": [
    "while \" \" != text2[slicing2]:\n",
    "    slicing2 = slicing2 - 1\n",
    "chunk1 = text2[0:slicing2]"
   ]
  },
  {
   "cell_type": "code",
   "execution_count": null,
   "id": "9a0853be-617d-4d15-9f71-091f18562660",
   "metadata": {},
   "outputs": [],
   "source": [
    "print(chunk[94900:])"
   ]
  },
  {
   "cell_type": "code",
   "execution_count": null,
   "id": "81ab3f7c-1535-4820-8ff4-df7fac643e63",
   "metadata": {},
   "outputs": [],
   "source": [
    "print(len(chunk1))\n",
    "print(slicing2)"
   ]
  },
  {
   "cell_type": "code",
   "execution_count": null,
   "id": "91eaa7ad-713a-49d9-b0b9-77fecd5f32e4",
   "metadata": {},
   "outputs": [],
   "source": [
    "french = spacy.load(\"fr_core_news_sm\")"
   ]
  },
  {
   "cell_type": "code",
   "execution_count": null,
   "id": "6142e08b-385f-44ec-b633-8f9860b99eb3",
   "metadata": {},
   "outputs": [],
   "source": [
    "doc = french(chunk1)"
   ]
  },
  {
   "cell_type": "code",
   "execution_count": null,
   "id": "a0d3450a-fe9a-4241-8c24-1853cf9c36c6",
   "metadata": {},
   "outputs": [],
   "source": [
    "print(type(doc))"
   ]
  },
  {
   "cell_type": "code",
   "execution_count": null,
   "id": "c64ab397-ada1-4bce-a9fc-82165df0a93a",
   "metadata": {},
   "outputs": [],
   "source": [
    "print(doc.vocab)"
   ]
  },
  {
   "cell_type": "code",
   "execution_count": null,
   "id": "b9fddd0b-373a-4f47-afc0-feb6b6d413aa",
   "metadata": {},
   "outputs": [],
   "source": [
    "compteur = 0\n",
    "for token in doc:\n",
    "    print(str(token))\n",
    "    print(str(token.tag_))\n",
    "    print(str(token.pos_))\n",
    "    compteur = compteur + 1\n",
    "    if compteur == 20:\n",
    "        break\n",
    "    "
   ]
  },
  {
   "cell_type": "code",
   "execution_count": null,
   "id": "47bc1823-a289-4fed-af59-79798ed121d0",
   "metadata": {},
   "outputs": [],
   "source": [
    "# texte de 5 millions de charactere\n",
    "# à chaque million de char parcouru stocker ceux-ci dans une variable\n",
    "# reprendre pour le chuck suivant l'index de la fin du chunk précèdent\n",
    "# "
   ]
  },
  {
   "cell_type": "code",
   "execution_count": null,
   "id": "fbf5dfa4-35b7-40e3-ab77-105156704191",
   "metadata": {},
   "outputs": [],
   "source": [
    "start = 0\n",
    "end = start + 1000000\n",
    "chunks = []\n",
    "\n",
    "while end < len(text2):\n",
    "    while \" \" != text2[end]:\n",
    "        end = end - 1\n",
    "    chunks.append(text2[start:end])\n",
    "    start = end\n",
    "    end = start + 1000000\n",
    "\n",
    "\n",
    "\n",
    "chunks.append(text2[start:])\n",
    "\n",
    "\n",
    "for e in chunks:\n",
    "    print(e[0:100])\n",
    "        \n",
    "\n"
   ]
  },
  {
   "cell_type": "code",
   "execution_count": null,
   "id": "f98fee65-17d1-4a51-92e8-f75fc949c93e",
   "metadata": {},
   "outputs": [],
   "source": [
    "while \" \" != text2[slicing3]:\n",
    "    slicing3 = slicing3 - 1\n",
    "chunk2 = text2[slicing2:slicing3]"
   ]
  },
  {
   "cell_type": "code",
   "execution_count": null,
   "id": "0beb793d-9597-4a3b-9216-f737e009d125",
   "metadata": {},
   "outputs": [],
   "source": []
  }
 ],
 "metadata": {
  "kernelspec": {
   "display_name": "Python 3 (ipykernel)",
   "language": "python",
   "name": "python3"
  },
  "language_info": {
   "codemirror_mode": {
    "name": "ipython",
    "version": 3
   },
   "file_extension": ".py",
   "mimetype": "text/x-python",
   "name": "python",
   "nbconvert_exporter": "python",
   "pygments_lexer": "ipython3",
   "version": "3.12.4"
  }
 },
 "nbformat": 4,
 "nbformat_minor": 5
}
