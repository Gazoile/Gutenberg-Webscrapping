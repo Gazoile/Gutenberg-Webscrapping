{
 "cells": [
  {
   "cell_type": "code",
   "execution_count": 75,
   "id": "0afd6c74-592b-43da-ae96-3f0cfe4dd7d1",
   "metadata": {},
   "outputs": [],
   "source": [
    "import platform\n",
    "import nltk\n",
    "import spacy"
   ]
  },
  {
   "cell_type": "code",
   "execution_count": 69,
   "id": "47dab826-2819-46c5-820b-b037c8c5c557",
   "metadata": {},
   "outputs": [],
   "source": [
    "if platform.system() == \"Windows\":\n",
    "    path = \"text_tokenized\\\\all_text.txt\"\n",
    "else:\n",
    "    path = \"text_tokenized/all_text.txt\"\n",
    "    \n",
    "f = open(path)\n",
    "\n",
    "text2 = f.read()\n",
    "\n",
    "\n",
    "texts = text2.split()\n"
   ]
  },
  {
   "cell_type": "code",
   "execution_count": 71,
   "id": "47ec93c4-d756-408e-8ddf-e5f15571bd9b",
   "metadata": {},
   "outputs": [
    {
     "name": "stdout",
     "output_type": "stream",
     "text": [
      "of\n"
     ]
    }
   ],
   "source": [
    "print(texts[60])"
   ]
  },
  {
   "cell_type": "code",
   "execution_count": 72,
   "id": "34500f42-c7bc-418f-81b3-9f72b85a9728",
   "metadata": {},
   "outputs": [
    {
     "name": "stdout",
     "output_type": "stream",
     "text": [
      "52180\n"
     ]
    }
   ],
   "source": [
    "print(len(texts))"
   ]
  },
  {
   "cell_type": "code",
   "execution_count": 38,
   "id": "f7025dfb-34b8-4478-b52c-789a57b7703c",
   "metadata": {},
   "outputs": [
    {
     "name": "stderr",
     "output_type": "stream",
     "text": [
      "IOPub data rate exceeded.\n",
      "The Jupyter server will temporarily stop sending output\n",
      "to the client in order to avoid crashing it.\n",
      "To change this limit, set the config variable\n",
      "`--ServerApp.iopub_data_rate_limit`.\n",
      "\n",
      "Current values:\n",
      "ServerApp.iopub_data_rate_limit=1000000.0 (bytes/sec)\n",
      "ServerApp.rate_limit_window=3.0 (secs)\n",
      "\n"
     ]
    }
   ],
   "source": [
    "compteur = {}\n",
    "for mot in texts:\n",
    "    if mot not in compteur:\n",
    "        compteur[mot] = 1\n",
    "    else:\n",
    "        compteur[mot] += 1\n",
    "print(compteur)\n"
   ]
  },
  {
   "cell_type": "code",
   "execution_count": 39,
   "id": "5919075a-2db2-4351-81cb-65fc6db2c83c",
   "metadata": {},
   "outputs": [],
   "source": [
    "L = {}\n",
    "for v in compteur:\n",
    "  if len(v) >= 5 :\n",
    "    L[v] = compteur[v]"
   ]
  },
  {
   "cell_type": "code",
   "execution_count": 40,
   "id": "07a8bd73-ce8d-4628-a67c-2a41bf5ae088",
   "metadata": {},
   "outputs": [
    {
     "name": "stderr",
     "output_type": "stream",
     "text": [
      "IOPub data rate exceeded.\n",
      "The Jupyter server will temporarily stop sending output\n",
      "to the client in order to avoid crashing it.\n",
      "To change this limit, set the config variable\n",
      "`--ServerApp.iopub_data_rate_limit`.\n",
      "\n",
      "Current values:\n",
      "ServerApp.iopub_data_rate_limit=1000000.0 (bytes/sec)\n",
      "ServerApp.rate_limit_window=3.0 (secs)\n",
      "\n"
     ]
    }
   ],
   "source": [
    "print(L)"
   ]
  },
  {
   "cell_type": "code",
   "execution_count": 41,
   "id": "18da9281-0789-4ed4-85ee-d4ff472a9f91",
   "metadata": {},
   "outputs": [],
   "source": [
    "max = 0\n",
    "mot = \"\"\n",
    "for e in L:\n",
    "    if L[e] > max:\n",
    "        max = L[e]\n",
    "        mot = e\n",
    "        "
   ]
  },
  {
   "cell_type": "code",
   "execution_count": 42,
   "id": "d2c79872-f999-428d-810d-39be062c8219",
   "metadata": {},
   "outputs": [
    {
     "name": "stdout",
     "output_type": "stream",
     "text": [
      "803020\n"
     ]
    }
   ],
   "source": [
    "print(max)"
   ]
  },
  {
   "cell_type": "code",
   "execution_count": 43,
   "id": "17b85f9f-f495-4dae-8ae2-a856e848b5e6",
   "metadata": {},
   "outputs": [
    {
     "name": "stdout",
     "output_type": "stream",
     "text": [
      "comme\n"
     ]
    }
   ],
   "source": [
    "print(mot)"
   ]
  },
  {
   "cell_type": "code",
   "execution_count": 44,
   "id": "979326a4-6aa4-444a-9b0d-0f2d5c52832c",
   "metadata": {},
   "outputs": [],
   "source": [
    "nos_mots = []\n",
    "for c in range(5):\n",
    "    max = 0\n",
    "    mot = \"\"\n",
    "    for e in L:\n",
    "        if L[e] > max and e not in nos_mots:\n",
    "            max = L[e]\n",
    "            mot = e\n",
    "            \n",
    "    nos_mots.append(mot)\n",
    "        "
   ]
  },
  {
   "cell_type": "code",
   "execution_count": 45,
   "id": "281e4e92-2de8-43a1-a7ac-d2123fa63f0a",
   "metadata": {},
   "outputs": [
    {
     "name": "stdout",
     "output_type": "stream",
     "text": [
      "['comme', 'cette', 'avait', \"qu'il\", \"c'est\"]\n"
     ]
    }
   ],
   "source": [
    "print(nos_mots)"
   ]
  },
  {
   "cell_type": "code",
   "execution_count": 46,
   "id": "af13d106-e32c-4eb9-9711-a0a6e590957f",
   "metadata": {},
   "outputs": [],
   "source": [
    "nos_mots = {}\n",
    "for c in range(5):\n",
    "    max = 0\n",
    "    mot = \"\"\n",
    "    for e in L:\n",
    "        if L[e] > max and e not in nos_mots:\n",
    "            max = L[e]\n",
    "            mot = e\n",
    "\n",
    "    nos_mots[mot] = max\n",
    "        "
   ]
  },
  {
   "cell_type": "code",
   "execution_count": 47,
   "id": "d3d20618-88f4-4353-ba53-5957103920d6",
   "metadata": {},
   "outputs": [
    {
     "name": "stdout",
     "output_type": "stream",
     "text": [
      "{'comme': 803020, 'cette': 790438, 'avait': 671746, \"qu'il\": 652476, \"c'est\": 492914}\n"
     ]
    }
   ],
   "source": [
    "print(nos_mots)"
   ]
  },
  {
   "cell_type": "code",
   "execution_count": 58,
   "id": "1fe47e99-e4bc-4550-a56c-78785dcfe637",
   "metadata": {},
   "outputs": [],
   "source": [
    "\n",
    "slicing = 95000"
   ]
  },
  {
   "cell_type": "code",
   "execution_count": 62,
   "id": "f454512a-3ad2-41f5-9a35-df75bc8c722b",
   "metadata": {},
   "outputs": [
    {
     "name": "stdout",
     "output_type": "stream",
     "text": [
      "source je\n"
     ]
    }
   ],
   "source": [
    "print(text2[0:9])"
   ]
  },
  {
   "cell_type": "code",
   "execution_count": 59,
   "id": "e4a1c865-a376-45b9-8cc7-d82daeca009c",
   "metadata": {},
   "outputs": [
    {
     "data": {
      "text/plain": [
       "'a'"
      ]
     },
     "execution_count": 59,
     "metadata": {},
     "output_type": "execute_result"
    }
   ],
   "source": [
    " text2[0:slicing]"
   ]
  },
  {
   "cell_type": "code",
   "execution_count": 63,
   "id": "c9df3363-c30c-41f9-a7fe-324325c13067",
   "metadata": {},
   "outputs": [],
   "source": [
    "while \" \" !=  text2[slicing]:\n",
    "    slicing = slicing + 1\n",
    "chunk = text2[0:slicing]"
   ]
  },
  {
   "cell_type": "code",
   "execution_count": null,
   "id": "05fe9157-e9fc-4ced-8bc0-c8f07e8ee6a3",
   "metadata": {},
   "outputs": [],
   "source": []
  },
  {
   "cell_type": "code",
   "execution_count": 66,
   "id": "9a0853be-617d-4d15-9f71-091f18562660",
   "metadata": {},
   "outputs": [
    {
     "name": "stdout",
     "output_type": "stream",
     "text": [
      "e dieu nous laisse encor nous avons essuy� des fortunes diverses ce qu'on nomme malheur adversit� traverses\n"
     ]
    }
   ],
   "source": [
    "print(chunk[94900:])"
   ]
  },
  {
   "cell_type": "code",
   "execution_count": null,
   "id": "91eaa7ad-713a-49d9-b0b9-77fecd5f32e4",
   "metadata": {},
   "outputs": [],
   "source": [
    "nlp = spacy.load(\"fr_core_news_sm\")"
   ]
  },
  {
   "cell_type": "code",
   "execution_count": 76,
   "id": "6142e08b-385f-44ec-b633-8f9860b99eb3",
   "metadata": {},
   "outputs": [],
   "source": [
    "doc = nlp(text2)"
   ]
  },
  {
   "cell_type": "code",
   "execution_count": null,
   "id": "a0d3450a-fe9a-4241-8c24-1853cf9c36c6",
   "metadata": {},
   "outputs": [],
   "source": []
  }
 ],
 "metadata": {
  "kernelspec": {
   "display_name": "Python 3 (ipykernel)",
   "language": "python",
   "name": "python3"
  },
  "language_info": {
   "codemirror_mode": {
    "name": "ipython",
    "version": 3
   },
   "file_extension": ".py",
   "mimetype": "text/x-python",
   "name": "python",
   "nbconvert_exporter": "python",
   "pygments_lexer": "ipython3",
   "version": "3.12.4"
  }
 },
 "nbformat": 4,
 "nbformat_minor": 5
}
