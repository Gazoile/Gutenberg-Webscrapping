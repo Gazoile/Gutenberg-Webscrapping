{
 "cells": [
  {
   "cell_type": "code",
   "execution_count": 3,
   "id": "0afd6c74-592b-43da-ae96-3f0cfe4dd7d1",
   "metadata": {},
   "outputs": [],
   "source": [
    "import platform\n",
    "import nltk"
   ]
  },
  {
   "cell_type": "code",
   "execution_count": 4,
   "id": "47dab826-2819-46c5-820b-b037c8c5c557",
   "metadata": {},
   "outputs": [],
   "source": [
    "if platform.system() == \"Windows\":\n",
    "    path = \"text_tokenized\\\\all_text.txt\"\n",
    "else:\n",
    "    path = \"text_tokenized/all_text.txt\"\n",
    "    \n",
    "f = open(path)\n",
    "\n",
    "\n",
    "texts = f.read().split()\n"
   ]
  },
  {
   "cell_type": "code",
   "execution_count": 5,
   "id": "47ec93c4-d756-408e-8ddf-e5f15571bd9b",
   "metadata": {},
   "outputs": [
    {
     "name": "stdout",
     "output_type": "stream",
     "text": [
      "of\n"
     ]
    }
   ],
   "source": [
    "print(texts[60])"
   ]
  },
  {
   "cell_type": "code",
   "execution_count": 6,
   "id": "34500f42-c7bc-418f-81b3-9f72b85a9728",
   "metadata": {},
   "outputs": [
    {
     "name": "stdout",
     "output_type": "stream",
     "text": [
      "240169143\n"
     ]
    }
   ],
   "source": [
    "print(len(texts))"
   ]
  },
  {
   "cell_type": "code",
   "execution_count": 7,
   "id": "f7025dfb-34b8-4478-b52c-789a57b7703c",
   "metadata": {},
   "outputs": [
    {
     "name": "stderr",
     "output_type": "stream",
     "text": [
      "IOPub data rate exceeded.\n",
      "The Jupyter server will temporarily stop sending output\n",
      "to the client in order to avoid crashing it.\n",
      "To change this limit, set the config variable\n",
      "`--ServerApp.iopub_data_rate_limit`.\n",
      "\n",
      "Current values:\n",
      "ServerApp.iopub_data_rate_limit=1000000.0 (bytes/sec)\n",
      "ServerApp.rate_limit_window=3.0 (secs)\n",
      "\n"
     ]
    }
   ],
   "source": [
    "compteur = {}\n",
    "for mot in texts:\n",
    "    if mot not in compteur:\n",
    "        compteur[mot] = 1\n",
    "    else:\n",
    "        compteur[mot] += 1\n",
    "print(compteur)\n"
   ]
  },
  {
   "cell_type": "code",
   "execution_count": 8,
   "id": "5919075a-2db2-4351-81cb-65fc6db2c83c",
   "metadata": {},
   "outputs": [],
   "source": [
    "L = {}\n",
    "for v in compteur:\n",
    "  if len(v) >= 5 :\n",
    "    L[v] = compteur[v]"
   ]
  },
  {
   "cell_type": "code",
   "execution_count": 9,
   "id": "07a8bd73-ce8d-4628-a67c-2a41bf5ae088",
   "metadata": {},
   "outputs": [
    {
     "name": "stderr",
     "output_type": "stream",
     "text": [
      "IOPub data rate exceeded.\n",
      "The Jupyter server will temporarily stop sending output\n",
      "to the client in order to avoid crashing it.\n",
      "To change this limit, set the config variable\n",
      "`--ServerApp.iopub_data_rate_limit`.\n",
      "\n",
      "Current values:\n",
      "ServerApp.iopub_data_rate_limit=1000000.0 (bytes/sec)\n",
      "ServerApp.rate_limit_window=3.0 (secs)\n",
      "\n"
     ]
    }
   ],
   "source": [
    "print(L)"
   ]
  },
  {
   "cell_type": "code",
   "execution_count": 16,
   "id": "18da9281-0789-4ed4-85ee-d4ff472a9f91",
   "metadata": {},
   "outputs": [],
   "source": [
    "max = 0\n",
    "mot = \"\"\n",
    "for e in L:\n",
    "    if L[e] > max:\n",
    "        max = L[e]\n",
    "        mot = e\n",
    "        "
   ]
  },
  {
   "cell_type": "code",
   "execution_count": 17,
   "id": "d2c79872-f999-428d-810d-39be062c8219",
   "metadata": {},
   "outputs": [
    {
     "name": "stdout",
     "output_type": "stream",
     "text": [
      "803020\n"
     ]
    }
   ],
   "source": [
    "print(max)"
   ]
  },
  {
   "cell_type": "code",
   "execution_count": 18,
   "id": "17b85f9f-f495-4dae-8ae2-a856e848b5e6",
   "metadata": {},
   "outputs": [
    {
     "name": "stdout",
     "output_type": "stream",
     "text": [
      "comme\n"
     ]
    }
   ],
   "source": [
    "print(mot)"
   ]
  },
  {
   "cell_type": "code",
   "execution_count": 19,
   "id": "979326a4-6aa4-444a-9b0d-0f2d5c52832c",
   "metadata": {},
   "outputs": [],
   "source": [
    "nos_mots = []\n",
    "for c in range(5):\n",
    "    max = 0\n",
    "    mot = \"\"\n",
    "    for e in L:\n",
    "        if L[e] > max and e not in nos_mots:\n",
    "            max = L[e]\n",
    "            mot = e\n",
    "            \n",
    "    nos_mots.append(mot)\n",
    "        "
   ]
  },
  {
   "cell_type": "code",
   "execution_count": 20,
   "id": "281e4e92-2de8-43a1-a7ac-d2123fa63f0a",
   "metadata": {},
   "outputs": [
    {
     "name": "stdout",
     "output_type": "stream",
     "text": [
      "['comme', 'cette', 'avait', \"qu'il\", \"c'est\"]\n"
     ]
    }
   ],
   "source": [
    "print(nos_mots)"
   ]
  },
  {
   "cell_type": "code",
   "execution_count": 21,
   "id": "af13d106-e32c-4eb9-9711-a0a6e590957f",
   "metadata": {},
   "outputs": [],
   "source": [
    "nos_mots = {}\n",
    "for c in range(5):\n",
    "    max = 0\n",
    "    mot = \"\"\n",
    "    for e in L:\n",
    "        if L[e] > max and e not in nos_mots:\n",
    "            max = L[e]\n",
    "            mot = e\n",
    "\n",
    "    nos_mots[mot] = max\n",
    "        "
   ]
  },
  {
   "cell_type": "code",
   "execution_count": 22,
   "id": "d3d20618-88f4-4353-ba53-5957103920d6",
   "metadata": {},
   "outputs": [
    {
     "name": "stdout",
     "output_type": "stream",
     "text": [
      "{'comme': 803020, 'cette': 790438, 'avait': 671746, \"qu'il\": 652476, \"c'est\": 492914}\n"
     ]
    }
   ],
   "source": [
    "print(nos_mots)"
   ]
  },
  {
   "cell_type": "code",
   "execution_count": 31,
   "id": "fdee78cc-bf7f-4a8a-bb0d-7b45fe192830",
   "metadata": {},
   "outputs": [],
   "source": [
    "tokenizer = nltk.data.load('/Users/sofianealouani/nltk_data/tokenizers/punkt/french.pickle')"
   ]
  },
  {
   "cell_type": "code",
   "execution_count": 32,
   "id": "b1482b96-7027-4656-8054-1f261963c560",
   "metadata": {},
   "outputs": [],
   "source": [
    "import spacy"
   ]
  },
  {
   "cell_type": "code",
   "execution_count": 33,
   "id": "a5d8b236-f203-47d0-8a2c-c1d088e45b7a",
   "metadata": {},
   "outputs": [],
   "source": [
    "nlp = spacy.load(\"fr_core_news_sm\")"
   ]
  },
  {
   "cell_type": "code",
   "execution_count": null,
   "id": "ac833edd-b2db-4763-bfd3-a0a1164cae0c",
   "metadata": {},
   "outputs": [],
   "source": []
  }
 ],
 "metadata": {
  "kernelspec": {
   "display_name": "Python 3 (ipykernel)",
   "language": "python",
   "name": "python3"
  },
  "language_info": {
   "codemirror_mode": {
    "name": "ipython",
    "version": 3
   },
   "file_extension": ".py",
   "mimetype": "text/x-python",
   "name": "python",
   "nbconvert_exporter": "python",
   "pygments_lexer": "ipython3",
   "version": "3.12.4"
  }
 },
 "nbformat": 4,
 "nbformat_minor": 5
}
